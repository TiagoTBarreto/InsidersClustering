{
 "cells": [
  {
   "cell_type": "markdown",
   "id": "cd5ada59",
   "metadata": {
    "papermill": {
     "duration": 0.020705,
     "end_time": "2024-04-01T14:22:36.363065",
     "exception": false,
     "start_time": "2024-04-01T14:22:36.342360",
     "status": "completed"
    },
    "tags": []
   },
   "source": [
    "# PA005 - High Value Customers Identification (Insiders)"
   ]
  },
  {
   "cell_type": "markdown",
   "id": "5b7094fc",
   "metadata": {
    "papermill": {
     "duration": 0.020508,
     "end_time": "2024-04-01T14:22:36.404384",
     "exception": false,
     "start_time": "2024-04-01T14:22:36.383876",
     "status": "completed"
    },
    "tags": []
   },
   "source": [
    "# 0.0 Imports"
   ]
  },
  {
   "cell_type": "code",
   "execution_count": 1,
   "id": "4321cc9a",
   "metadata": {
    "execution": {
     "iopub.execute_input": "2024-04-01T14:22:36.443719Z",
     "iopub.status.busy": "2024-04-01T14:22:36.443371Z",
     "iopub.status.idle": "2024-04-01T14:22:44.921790Z",
     "shell.execute_reply": "2024-04-01T14:22:44.921124Z"
    },
    "papermill": {
     "duration": 8.500485,
     "end_time": "2024-04-01T14:22:44.923963",
     "exception": false,
     "start_time": "2024-04-01T14:22:36.423478",
     "status": "completed"
    },
    "tags": []
   },
   "outputs": [
    {
     "name": "stderr",
     "output_type": "stream",
     "text": [
      "/home/tiagobarreto/.pyenv/versions/3.11.4/envs/cluster/lib/python3.11/site-packages/tqdm/auto.py:21: TqdmWarning: IProgress not found. Please update jupyter and ipywidgets. See https://ipywidgets.readthedocs.io/en/stable/user_install.html\n",
      "  from .autonotebook import tqdm as notebook_tqdm\n"
     ]
    }
   ],
   "source": [
    "import pandas as pd\n",
    "import numpy as np\n",
    "import seaborn as sns\n",
    "import re\n",
    "import umap.umap_ as umap\n",
    "import sqlite3\n",
    "import pickle\n",
    "\n",
    "from scipy.cluster import hierarchy as hc\n",
    "from plotly import express as px\n",
    "from sqlalchemy import create_engine\n",
    "from matplotlib import pyplot as plt\n",
    "from sklearn import cluster as c\n",
    "from sklearn import preprocessing as pp\n",
    "from sklearn import metrics as mt\n",
    "from sklearn.decomposition import PCA\n",
    "from sklearn.ensemble import RandomForestRegressor\n",
    "from sklearn import mixture as mx\n",
    "from sklearn.neighbors import NearestNeighbors"
   ]
  },
  {
   "cell_type": "markdown",
   "id": "d479111f",
   "metadata": {
    "papermill": {
     "duration": 0.018573,
     "end_time": "2024-04-01T14:22:44.959341",
     "exception": false,
     "start_time": "2024-04-01T14:22:44.940768",
     "status": "completed"
    },
    "tags": []
   },
   "source": [
    "## 0.2 Loading Dataset"
   ]
  },
  {
   "cell_type": "code",
   "execution_count": 2,
   "id": "d25f1b96",
   "metadata": {
    "execution": {
     "iopub.execute_input": "2024-04-01T14:22:44.994089Z",
     "iopub.status.busy": "2024-04-01T14:22:44.993588Z",
     "iopub.status.idle": "2024-04-01T14:22:45.947484Z",
     "shell.execute_reply": "2024-04-01T14:22:45.946617Z"
    },
    "papermill": {
     "duration": 0.976687,
     "end_time": "2024-04-01T14:22:45.951940",
     "exception": false,
     "start_time": "2024-04-01T14:22:44.975253",
     "status": "completed"
    },
    "tags": []
   },
   "outputs": [],
   "source": [
    "# load data\n",
    "path = '/home/tiagobarreto/DS/repos/clusterização/pa005_clustering'\n",
    "df_raw = pd.read_csv(path +'/data/Ecommerce.csv', encoding='latin1')\n",
    "\n",
    "# drop extra column\n",
    "df_raw = df_raw.drop('Unnamed: 8', axis = 1)"
   ]
  },
  {
   "cell_type": "markdown",
   "id": "79d346ff",
   "metadata": {
    "papermill": {
     "duration": 0.034714,
     "end_time": "2024-04-01T14:22:46.004304",
     "exception": false,
     "start_time": "2024-04-01T14:22:45.969590",
     "status": "completed"
    },
    "tags": []
   },
   "source": [
    "# 1.0 Descrição dos Dados"
   ]
  },
  {
   "cell_type": "code",
   "execution_count": 3,
   "id": "bef6f4f2",
   "metadata": {
    "execution": {
     "iopub.execute_input": "2024-04-01T14:22:46.059441Z",
     "iopub.status.busy": "2024-04-01T14:22:46.058728Z",
     "iopub.status.idle": "2024-04-01T14:22:46.108890Z",
     "shell.execute_reply": "2024-04-01T14:22:46.108191Z"
    },
    "papermill": {
     "duration": 0.082709,
     "end_time": "2024-04-01T14:22:46.111440",
     "exception": false,
     "start_time": "2024-04-01T14:22:46.028731",
     "status": "completed"
    },
    "tags": []
   },
   "outputs": [],
   "source": [
    "df1 = df_raw.copy()"
   ]
  },
  {
   "cell_type": "markdown",
   "id": "7223cab3",
   "metadata": {
    "papermill": {
     "duration": 0.027468,
     "end_time": "2024-04-01T14:22:46.157162",
     "exception": false,
     "start_time": "2024-04-01T14:22:46.129694",
     "status": "completed"
    },
    "tags": []
   },
   "source": [
    "## 1.1 Rename Columns"
   ]
  },
  {
   "cell_type": "code",
   "execution_count": 4,
   "id": "8024390a",
   "metadata": {
    "execution": {
     "iopub.execute_input": "2024-04-01T14:22:46.196030Z",
     "iopub.status.busy": "2024-04-01T14:22:46.195684Z",
     "iopub.status.idle": "2024-04-01T14:22:46.202374Z",
     "shell.execute_reply": "2024-04-01T14:22:46.201431Z"
    },
    "papermill": {
     "duration": 0.030758,
     "end_time": "2024-04-01T14:22:46.204329",
     "exception": false,
     "start_time": "2024-04-01T14:22:46.173571",
     "status": "completed"
    },
    "tags": []
   },
   "outputs": [],
   "source": [
    "cols_new = ['invoice_no', 'stock_code', 'description', 'quantity', 'invoice_date', 'unit_price', 'customer_id','country']\n",
    "df1.columns = cols_new"
   ]
  },
  {
   "cell_type": "markdown",
   "id": "5ce56ec4",
   "metadata": {
    "papermill": {
     "duration": 0.021289,
     "end_time": "2024-04-01T14:22:46.244544",
     "exception": false,
     "start_time": "2024-04-01T14:22:46.223255",
     "status": "completed"
    },
    "tags": []
   },
   "source": [
    "## 1.2 Data Dimensions, Types e NA"
   ]
  },
  {
   "cell_type": "code",
   "execution_count": 5,
   "id": "0bc5171f",
   "metadata": {
    "execution": {
     "iopub.execute_input": "2024-04-01T14:22:46.287761Z",
     "iopub.status.busy": "2024-04-01T14:22:46.287353Z",
     "iopub.status.idle": "2024-04-01T14:22:46.295568Z",
     "shell.execute_reply": "2024-04-01T14:22:46.294979Z"
    },
    "papermill": {
     "duration": 0.036014,
     "end_time": "2024-04-01T14:22:46.299757",
     "exception": false,
     "start_time": "2024-04-01T14:22:46.263743",
     "status": "completed"
    },
    "tags": []
   },
   "outputs": [
    {
     "data": {
      "text/plain": [
       "(541909, 8)"
      ]
     },
     "execution_count": 5,
     "metadata": {},
     "output_type": "execute_result"
    }
   ],
   "source": [
    "df1.shape"
   ]
  },
  {
   "cell_type": "markdown",
   "id": "5ba9cd81",
   "metadata": {
    "papermill": {
     "duration": 0.020129,
     "end_time": "2024-04-01T14:22:46.338508",
     "exception": false,
     "start_time": "2024-04-01T14:22:46.318379",
     "status": "completed"
    },
    "tags": []
   },
   "source": [
    "## 1.3 Datatypes"
   ]
  },
  {
   "cell_type": "code",
   "execution_count": 6,
   "id": "b3c5020e",
   "metadata": {
    "execution": {
     "iopub.execute_input": "2024-04-01T14:22:46.377286Z",
     "iopub.status.busy": "2024-04-01T14:22:46.376913Z",
     "iopub.status.idle": "2024-04-01T14:22:46.387103Z",
     "shell.execute_reply": "2024-04-01T14:22:46.386378Z"
    },
    "papermill": {
     "duration": 0.030721,
     "end_time": "2024-04-01T14:22:46.388893",
     "exception": false,
     "start_time": "2024-04-01T14:22:46.358172",
     "status": "completed"
    },
    "tags": []
   },
   "outputs": [
    {
     "data": {
      "text/plain": [
       "invoice_no       object\n",
       "stock_code       object\n",
       "description      object\n",
       "quantity          int64\n",
       "invoice_date     object\n",
       "unit_price      float64\n",
       "customer_id     float64\n",
       "country          object\n",
       "dtype: object"
      ]
     },
     "execution_count": 6,
     "metadata": {},
     "output_type": "execute_result"
    }
   ],
   "source": [
    "df1.dtypes"
   ]
  },
  {
   "cell_type": "markdown",
   "id": "0f8b5ebd",
   "metadata": {
    "papermill": {
     "duration": 0.024989,
     "end_time": "2024-04-01T14:22:46.433785",
     "exception": false,
     "start_time": "2024-04-01T14:22:46.408796",
     "status": "completed"
    },
    "tags": []
   },
   "source": [
    "## 1.4 Check NA"
   ]
  },
  {
   "cell_type": "code",
   "execution_count": 7,
   "id": "bad761a2",
   "metadata": {
    "execution": {
     "iopub.execute_input": "2024-04-01T14:22:46.506881Z",
     "iopub.status.busy": "2024-04-01T14:22:46.506519Z",
     "iopub.status.idle": "2024-04-01T14:22:46.633820Z",
     "shell.execute_reply": "2024-04-01T14:22:46.630640Z"
    },
    "papermill": {
     "duration": 0.149284,
     "end_time": "2024-04-01T14:22:46.636005",
     "exception": false,
     "start_time": "2024-04-01T14:22:46.486721",
     "status": "completed"
    },
    "tags": []
   },
   "outputs": [
    {
     "data": {
      "text/plain": [
       "invoice_no           0\n",
       "stock_code           0\n",
       "description       1454\n",
       "quantity             0\n",
       "invoice_date         0\n",
       "unit_price           0\n",
       "customer_id     135080\n",
       "country              0\n",
       "dtype: int64"
      ]
     },
     "execution_count": 7,
     "metadata": {},
     "output_type": "execute_result"
    }
   ],
   "source": [
    "df1.isna().sum()"
   ]
  },
  {
   "cell_type": "markdown",
   "id": "e4998083",
   "metadata": {
    "papermill": {
     "duration": 0.021434,
     "end_time": "2024-04-01T14:22:46.677983",
     "exception": false,
     "start_time": "2024-04-01T14:22:46.656549",
     "status": "completed"
    },
    "tags": []
   },
   "source": [
    "## 1.5 Replace NA"
   ]
  },
  {
   "cell_type": "code",
   "execution_count": 8,
   "id": "98ce2b4b",
   "metadata": {
    "execution": {
     "iopub.execute_input": "2024-04-01T14:22:46.723458Z",
     "iopub.status.busy": "2024-04-01T14:22:46.723098Z",
     "iopub.status.idle": "2024-04-01T14:22:46.841791Z",
     "shell.execute_reply": "2024-04-01T14:22:46.841227Z"
    },
    "papermill": {
     "duration": 0.143699,
     "end_time": "2024-04-01T14:22:46.843699",
     "exception": false,
     "start_time": "2024-04-01T14:22:46.700000",
     "status": "completed"
    },
    "tags": []
   },
   "outputs": [
    {
     "data": {
      "text/html": [
       "<div>\n",
       "<style scoped>\n",
       "    .dataframe tbody tr th:only-of-type {\n",
       "        vertical-align: middle;\n",
       "    }\n",
       "\n",
       "    .dataframe tbody tr th {\n",
       "        vertical-align: top;\n",
       "    }\n",
       "\n",
       "    .dataframe thead th {\n",
       "        text-align: right;\n",
       "    }\n",
       "</style>\n",
       "<table border=\"1\" class=\"dataframe\">\n",
       "  <thead>\n",
       "    <tr style=\"text-align: right;\">\n",
       "      <th></th>\n",
       "      <th>invoice_no</th>\n",
       "      <th>stock_code</th>\n",
       "      <th>description</th>\n",
       "      <th>quantity</th>\n",
       "      <th>invoice_date</th>\n",
       "      <th>unit_price</th>\n",
       "      <th>customer_id</th>\n",
       "      <th>country</th>\n",
       "    </tr>\n",
       "  </thead>\n",
       "  <tbody>\n",
       "  </tbody>\n",
       "</table>\n",
       "</div>"
      ],
      "text/plain": [
       "Empty DataFrame\n",
       "Columns: [invoice_no, stock_code, description, quantity, invoice_date, unit_price, customer_id, country]\n",
       "Index: []"
      ]
     },
     "execution_count": 8,
     "metadata": {},
     "output_type": "execute_result"
    }
   ],
   "source": [
    "# remove na\n",
    "df_missing = df1.loc[df1['customer_id'].isna(), :]\n",
    "df_not_missing = df1.loc[~df1['customer_id'].isna(), :]\n",
    "\n",
    "invoice_number_missing = df_missing.loc[:, 'invoice_no'].tolist()\n",
    "df_not_missing.loc[df_not_missing['invoice_no'].isin(invoice_number_missing), :]"
   ]
  },
  {
   "cell_type": "code",
   "execution_count": 9,
   "id": "72620bbf",
   "metadata": {
    "execution": {
     "iopub.execute_input": "2024-04-01T14:22:46.895326Z",
     "iopub.status.busy": "2024-04-01T14:22:46.894977Z",
     "iopub.status.idle": "2024-04-01T14:22:46.906384Z",
     "shell.execute_reply": "2024-04-01T14:22:46.905596Z"
    },
    "papermill": {
     "duration": 0.041529,
     "end_time": "2024-04-01T14:22:46.909386",
     "exception": false,
     "start_time": "2024-04-01T14:22:46.867857",
     "status": "completed"
    },
    "tags": []
   },
   "outputs": [
    {
     "data": {
      "text/plain": [
       "18287.0"
      ]
     },
     "execution_count": 9,
     "metadata": {},
     "output_type": "execute_result"
    }
   ],
   "source": [
    "df_not_missing['customer_id'].max()"
   ]
  },
  {
   "cell_type": "code",
   "execution_count": 10,
   "id": "7d08b04a",
   "metadata": {
    "execution": {
     "iopub.execute_input": "2024-04-01T14:22:46.959078Z",
     "iopub.status.busy": "2024-04-01T14:22:46.958727Z",
     "iopub.status.idle": "2024-04-01T14:22:47.281134Z",
     "shell.execute_reply": "2024-04-01T14:22:47.279505Z"
    },
    "papermill": {
     "duration": 0.355659,
     "end_time": "2024-04-01T14:22:47.287200",
     "exception": false,
     "start_time": "2024-04-01T14:22:46.931541",
     "status": "completed"
    },
    "tags": []
   },
   "outputs": [],
   "source": [
    "# create reference\n",
    "df_backup = pd.DataFrame(df_missing[['invoice_no']].drop_duplicates())\n",
    "df_backup['customer_id'] = np.arange(19000, 19000 + len(df_backup), 1)\n",
    "\n",
    "# merge with original dataframe\n",
    "df1 = pd.merge(df1, df_backup, on='invoice_no', how='left')\n",
    "\n",
    "# coalesce\n",
    "df1['customer_id'] = df1['customer_id_x'].combine_first(df1['customer_id_y'])\n",
    "\n",
    "# drop columns\n",
    "df1 = df1.drop(columns=['customer_id_x', 'customer_id_y'])"
   ]
  },
  {
   "cell_type": "markdown",
   "id": "e85e0578",
   "metadata": {
    "papermill": {
     "duration": 0.030341,
     "end_time": "2024-04-01T14:22:47.339253",
     "exception": false,
     "start_time": "2024-04-01T14:22:47.308912",
     "status": "completed"
    },
    "tags": []
   },
   "source": [
    "## 1.6 Change Datatypes"
   ]
  },
  {
   "cell_type": "code",
   "execution_count": 11,
   "id": "0a9b586d",
   "metadata": {
    "execution": {
     "iopub.execute_input": "2024-04-01T14:22:47.401261Z",
     "iopub.status.busy": "2024-04-01T14:22:47.400848Z",
     "iopub.status.idle": "2024-04-01T14:22:47.471794Z",
     "shell.execute_reply": "2024-04-01T14:22:47.471144Z"
    },
    "papermill": {
     "duration": 0.100453,
     "end_time": "2024-04-01T14:22:47.473826",
     "exception": false,
     "start_time": "2024-04-01T14:22:47.373373",
     "status": "completed"
    },
    "tags": []
   },
   "outputs": [],
   "source": [
    "# invoice_date\n",
    "df1['invoice_date'] = pd.to_datetime(df1['invoice_date'], format='%d-%b-%y')\n",
    "\n",
    "# customer_id\n",
    "df1['customer_id'] = df1['customer_id'].astype(int)"
   ]
  },
  {
   "cell_type": "markdown",
   "id": "0eec27ea",
   "metadata": {
    "papermill": {
     "duration": 0.027023,
     "end_time": "2024-04-01T14:22:47.523231",
     "exception": false,
     "start_time": "2024-04-01T14:22:47.496208",
     "status": "completed"
    },
    "tags": []
   },
   "source": [
    "## 1.7 Descriptive Statistics"
   ]
  },
  {
   "cell_type": "code",
   "execution_count": 12,
   "id": "28efb0ad",
   "metadata": {
    "execution": {
     "iopub.execute_input": "2024-04-01T14:22:47.572407Z",
     "iopub.status.busy": "2024-04-01T14:22:47.571923Z",
     "iopub.status.idle": "2024-04-01T14:22:47.679145Z",
     "shell.execute_reply": "2024-04-01T14:22:47.678442Z"
    },
    "papermill": {
     "duration": 0.135975,
     "end_time": "2024-04-01T14:22:47.681276",
     "exception": false,
     "start_time": "2024-04-01T14:22:47.545301",
     "status": "completed"
    },
    "tags": []
   },
   "outputs": [],
   "source": [
    "num_attributes = df1.select_dtypes(include = ['int64', 'float64'])\n",
    "cat_attributes = df1.select_dtypes(exclude = ['int64', 'float64', 'datetime64[ns]'])"
   ]
  },
  {
   "cell_type": "markdown",
   "id": "08154c46",
   "metadata": {
    "papermill": {
     "duration": 0.032307,
     "end_time": "2024-04-01T14:22:47.742228",
     "exception": false,
     "start_time": "2024-04-01T14:22:47.709921",
     "status": "completed"
    },
    "tags": []
   },
   "source": [
    "### 1.7.1 Numerical Attributes"
   ]
  },
  {
   "cell_type": "code",
   "execution_count": 13,
   "id": "8e958125",
   "metadata": {
    "execution": {
     "iopub.execute_input": "2024-04-01T14:22:47.802654Z",
     "iopub.status.busy": "2024-04-01T14:22:47.802136Z",
     "iopub.status.idle": "2024-04-01T14:22:47.897136Z",
     "shell.execute_reply": "2024-04-01T14:22:47.896342Z"
    },
    "papermill": {
     "duration": 0.13151,
     "end_time": "2024-04-01T14:22:47.901576",
     "exception": false,
     "start_time": "2024-04-01T14:22:47.770066",
     "status": "completed"
    },
    "tags": []
   },
   "outputs": [
    {
     "data": {
      "text/html": [
       "<div>\n",
       "<style scoped>\n",
       "    .dataframe tbody tr th:only-of-type {\n",
       "        vertical-align: middle;\n",
       "    }\n",
       "\n",
       "    .dataframe tbody tr th {\n",
       "        vertical-align: top;\n",
       "    }\n",
       "\n",
       "    .dataframe thead th {\n",
       "        text-align: right;\n",
       "    }\n",
       "</style>\n",
       "<table border=\"1\" class=\"dataframe\">\n",
       "  <thead>\n",
       "    <tr style=\"text-align: right;\">\n",
       "      <th></th>\n",
       "      <th>min</th>\n",
       "      <th>max</th>\n",
       "      <th>range</th>\n",
       "      <th>mean</th>\n",
       "      <th>median</th>\n",
       "      <th>std</th>\n",
       "      <th>skew</th>\n",
       "      <th>kurtosis</th>\n",
       "    </tr>\n",
       "  </thead>\n",
       "  <tbody>\n",
       "    <tr>\n",
       "      <th>quantity</th>\n",
       "      <td>-80995.00</td>\n",
       "      <td>80995.0</td>\n",
       "      <td>161990.00</td>\n",
       "      <td>9.552250</td>\n",
       "      <td>3.00</td>\n",
       "      <td>218.080957</td>\n",
       "      <td>-0.264076</td>\n",
       "      <td>119769.160031</td>\n",
       "    </tr>\n",
       "    <tr>\n",
       "      <th>unit_price</th>\n",
       "      <td>-11062.06</td>\n",
       "      <td>38970.0</td>\n",
       "      <td>50032.06</td>\n",
       "      <td>4.611114</td>\n",
       "      <td>2.08</td>\n",
       "      <td>96.759764</td>\n",
       "      <td>186.506972</td>\n",
       "      <td>59005.719097</td>\n",
       "    </tr>\n",
       "    <tr>\n",
       "      <th>customer_id</th>\n",
       "      <td>12346.00</td>\n",
       "      <td>22709.0</td>\n",
       "      <td>10363.00</td>\n",
       "      <td>16688.840453</td>\n",
       "      <td>16249.00</td>\n",
       "      <td>2911.408666</td>\n",
       "      <td>0.487449</td>\n",
       "      <td>-0.804287</td>\n",
       "    </tr>\n",
       "  </tbody>\n",
       "</table>\n",
       "</div>"
      ],
      "text/plain": [
       "                  min      max      range          mean    median  \\\n",
       "quantity    -80995.00  80995.0  161990.00      9.552250      3.00   \n",
       "unit_price  -11062.06  38970.0   50032.06      4.611114      2.08   \n",
       "customer_id  12346.00  22709.0   10363.00  16688.840453  16249.00   \n",
       "\n",
       "                     std        skew       kurtosis  \n",
       "quantity      218.080957   -0.264076  119769.160031  \n",
       "unit_price     96.759764  186.506972   59005.719097  \n",
       "customer_id  2911.408666    0.487449      -0.804287  "
      ]
     },
     "execution_count": 13,
     "metadata": {},
     "output_type": "execute_result"
    }
   ],
   "source": [
    "# Central Tendecy (Mean and Median)\n",
    "c1 = pd.DataFrame(num_attributes.apply(lambda x: np.mean(x)))\n",
    "c2 = pd.DataFrame(num_attributes.apply(lambda x: np.median(x)))\n",
    "\n",
    "# Dispersion\n",
    "d1 = pd.DataFrame(num_attributes.apply(lambda x: (x).min()))\n",
    "d2 = pd.DataFrame(num_attributes.apply(lambda x: (x).max()))\n",
    "d3 = pd.DataFrame(num_attributes.apply(lambda x: (x).max() - (x).min()))\n",
    "d4 = pd.DataFrame(num_attributes.apply(lambda x: np.std(x)))\n",
    "d5 = pd.DataFrame(num_attributes.apply(lambda x: (x).skew()))\n",
    "d6 = pd.DataFrame(num_attributes.apply(lambda x: (x).kurtosis()))\n",
    "\n",
    "a = pd.concat([d1,d2,d3, c1,c2,d4,d5,d6], axis = 1)\n",
    "a.columns = ['min', 'max','range','mean','median','std','skew','kurtosis']\n",
    "a"
   ]
  },
  {
   "cell_type": "markdown",
   "id": "9ebe6f34",
   "metadata": {
    "papermill": {
     "duration": 0.033524,
     "end_time": "2024-04-01T14:22:47.957906",
     "exception": false,
     "start_time": "2024-04-01T14:22:47.924382",
     "status": "completed"
    },
    "tags": []
   },
   "source": [
    "### 1.7.2 Categorical Attributes"
   ]
  },
  {
   "cell_type": "code",
   "execution_count": 14,
   "id": "6864ee33",
   "metadata": {
    "execution": {
     "iopub.execute_input": "2024-04-01T14:22:48.007269Z",
     "iopub.status.busy": "2024-04-01T14:22:48.006795Z",
     "iopub.status.idle": "2024-04-01T14:22:48.868440Z",
     "shell.execute_reply": "2024-04-01T14:22:48.867537Z"
    },
    "papermill": {
     "duration": 0.888218,
     "end_time": "2024-04-01T14:22:48.870496",
     "exception": false,
     "start_time": "2024-04-01T14:22:47.982278",
     "status": "completed"
    },
    "tags": []
   },
   "outputs": [
    {
     "name": "stdout",
     "output_type": "stream",
     "text": [
      "Quantidade de invoice number com letras: 9291 e que tem quantidade negativa: 9288\n"
     ]
    }
   ],
   "source": [
    "# invoice_no\n",
    "\n",
    "# df1['invoice_no'] = df1['invoice_no'].astype(int)\n",
    "df_invoice_no = df1.loc[df1['invoice_no'].apply(lambda x: bool(re.search('[^0-9]+', x) ) ), :]\n",
    "quantity_negative = df_invoice_no.loc[df_invoice_no['quantity'] < 0, 'quantity'].count()\n",
    "\n",
    "print(f'Quantidade de invoice number com letras: {df_invoice_no.shape[0]} e que tem quantidade negativa: {quantity_negative}')"
   ]
  },
  {
   "cell_type": "code",
   "execution_count": 15,
   "id": "10ec632b",
   "metadata": {
    "execution": {
     "iopub.execute_input": "2024-04-01T14:22:48.916564Z",
     "iopub.status.busy": "2024-04-01T14:22:48.914939Z",
     "iopub.status.idle": "2024-04-01T14:22:49.803926Z",
     "shell.execute_reply": "2024-04-01T14:22:49.801872Z"
    },
    "papermill": {
     "duration": 0.916962,
     "end_time": "2024-04-01T14:22:49.806338",
     "exception": false,
     "start_time": "2024-04-01T14:22:48.889376",
     "status": "completed"
    },
    "tags": []
   },
   "outputs": [
    {
     "name": "stdout",
     "output_type": "stream",
     "text": [
      "Lista de stock code para limpar: ['POST', 'D', 'DOT', 'M', 'S', 'AMAZONFEE', 'm', 'DCGSSBOY', 'DCGSSGIRL', 'PADS', 'B', 'CRUK']\n"
     ]
    }
   ],
   "source": [
    "# stock_code\n",
    "\n",
    "# df1['stock_code'] = df1['stock_code'].astype(int)\n",
    "# len(cat_attributes.loc[cat_attributes['stock_code'].apply(lambda x: bool(re.search('[^0-9]+', x) ) ), 'stock_code'].drop_duplicates())\n",
    "\n",
    "stock_code_limpeza = list(cat_attributes.loc[cat_attributes['stock_code'].apply(lambda x: bool(re.search('^[a-zA-Z]+$', x) ) ), 'stock_code'].unique())\n",
    "\n",
    "print(f'Lista de stock code para limpar: {stock_code_limpeza}')"
   ]
  },
  {
   "cell_type": "code",
   "execution_count": 16,
   "id": "9d332cc4",
   "metadata": {
    "execution": {
     "iopub.execute_input": "2024-04-01T14:22:49.875133Z",
     "iopub.status.busy": "2024-04-01T14:22:49.874746Z",
     "iopub.status.idle": "2024-04-01T14:22:49.973424Z",
     "shell.execute_reply": "2024-04-01T14:22:49.972635Z"
    },
    "papermill": {
     "duration": 0.147887,
     "end_time": "2024-04-01T14:22:49.975578",
     "exception": false,
     "start_time": "2024-04-01T14:22:49.827691",
     "status": "completed"
    },
    "tags": []
   },
   "outputs": [
    {
     "data": {
      "text/plain": [
       "array(['United Kingdom', 'France', 'Australia', 'Netherlands', 'Germany',\n",
       "       'Norway', 'EIRE', 'Switzerland', 'Spain', 'Poland', 'Portugal',\n",
       "       'Italy', 'Belgium', 'Lithuania', 'Japan', 'Iceland',\n",
       "       'Channel Islands', 'Denmark', 'Cyprus', 'Sweden', 'Austria',\n",
       "       'Israel', 'Finland', 'Bahrain', 'Greece', 'Hong Kong', 'Singapore',\n",
       "       'Lebanon', 'United Arab Emirates', 'Saudi Arabia',\n",
       "       'Czech Republic', 'Canada', 'Unspecified', 'Brazil', 'USA',\n",
       "       'European Community', 'Malta', 'RSA'], dtype=object)"
      ]
     },
     "execution_count": 16,
     "metadata": {},
     "output_type": "execute_result"
    }
   ],
   "source": [
    "# country_code\n",
    "cat_attributes.loc[:, 'country'].value_counts(normalize = True)\n",
    "cat_attributes.loc[:, 'country'].unique()"
   ]
  },
  {
   "cell_type": "markdown",
   "id": "6f61bbbd",
   "metadata": {
    "papermill": {
     "duration": 0.069964,
     "end_time": "2024-04-01T14:22:50.072519",
     "exception": false,
     "start_time": "2024-04-01T14:22:50.002555",
     "status": "completed"
    },
    "tags": []
   },
   "source": [
    "# 2.0 Filtragem de Variáveis"
   ]
  },
  {
   "cell_type": "code",
   "execution_count": 17,
   "id": "fc8ccd38",
   "metadata": {
    "execution": {
     "iopub.execute_input": "2024-04-01T14:22:50.281452Z",
     "iopub.status.busy": "2024-04-01T14:22:50.281098Z",
     "iopub.status.idle": "2024-04-01T14:22:50.358601Z",
     "shell.execute_reply": "2024-04-01T14:22:50.357639Z"
    },
    "papermill": {
     "duration": 0.231328,
     "end_time": "2024-04-01T14:22:50.360652",
     "exception": false,
     "start_time": "2024-04-01T14:22:50.129324",
     "status": "completed"
    },
    "tags": []
   },
   "outputs": [],
   "source": [
    "df2 = df1.copy()"
   ]
  },
  {
   "cell_type": "code",
   "execution_count": 18,
   "id": "a0004629",
   "metadata": {
    "execution": {
     "iopub.execute_input": "2024-04-01T14:22:50.560727Z",
     "iopub.status.busy": "2024-04-01T14:22:50.560376Z",
     "iopub.status.idle": "2024-04-01T14:22:50.817680Z",
     "shell.execute_reply": "2024-04-01T14:22:50.814363Z"
    },
    "papermill": {
     "duration": 0.375597,
     "end_time": "2024-04-01T14:22:50.819979",
     "exception": false,
     "start_time": "2024-04-01T14:22:50.444382",
     "status": "completed"
    },
    "tags": []
   },
   "outputs": [],
   "source": [
    "# ======== unit_price ========\n",
    "df2 = df2[df2['unit_price'] >= 0.04]\n",
    "\n",
    "# ======== stock_code ========\n",
    "df2 = df2[~df2['stock_code'].isin(stock_code_limpeza)]\n",
    "\n",
    "# ======== description ========\n",
    "df2 = df2.drop(columns='description', axis = 1)\n",
    " \n",
    "# ======== country ========\n",
    "df2 = df2[~df2['country'].isin(['European Community','Unspecified'])]\n",
    "\n",
    "# ======== bad users ========\n",
    "df2 = df2[~(df2['customer_id'].isin( [16446, 15749] ))]\n",
    "\n",
    "# ======== quantity ========\n",
    "df2_purchases = df2[df2['quantity'] >= 0]\n",
    "df2_returns = df2[df2['quantity'] < 0]\n"
   ]
  },
  {
   "cell_type": "markdown",
   "id": "981114ca",
   "metadata": {
    "papermill": {
     "duration": 0.02751,
     "end_time": "2024-04-01T14:22:50.870914",
     "exception": false,
     "start_time": "2024-04-01T14:22:50.843404",
     "status": "completed"
    },
    "tags": []
   },
   "source": [
    "# 3.0 Feature Enginnering"
   ]
  },
  {
   "cell_type": "code",
   "execution_count": 19,
   "id": "30a3923a",
   "metadata": {
    "execution": {
     "iopub.execute_input": "2024-04-01T14:22:50.918005Z",
     "iopub.status.busy": "2024-04-01T14:22:50.917600Z",
     "iopub.status.idle": "2024-04-01T14:22:50.934667Z",
     "shell.execute_reply": "2024-04-01T14:22:50.933703Z"
    },
    "papermill": {
     "duration": 0.043657,
     "end_time": "2024-04-01T14:22:50.937007",
     "exception": false,
     "start_time": "2024-04-01T14:22:50.893350",
     "status": "completed"
    },
    "tags": []
   },
   "outputs": [],
   "source": [
    "df3 = df2.copy()"
   ]
  },
  {
   "cell_type": "markdown",
   "id": "42fd52be",
   "metadata": {
    "papermill": {
     "duration": 0.041765,
     "end_time": "2024-04-01T14:22:51.003250",
     "exception": false,
     "start_time": "2024-04-01T14:22:50.961485",
     "status": "completed"
    },
    "tags": []
   },
   "source": [
    "## 3.1 Feature Creation"
   ]
  },
  {
   "cell_type": "code",
   "execution_count": 20,
   "id": "c7c6c855",
   "metadata": {
    "execution": {
     "iopub.execute_input": "2024-04-01T14:22:51.075562Z",
     "iopub.status.busy": "2024-04-01T14:22:51.075224Z",
     "iopub.status.idle": "2024-04-01T14:22:51.097292Z",
     "shell.execute_reply": "2024-04-01T14:22:51.096292Z"
    },
    "papermill": {
     "duration": 0.060929,
     "end_time": "2024-04-01T14:22:51.100532",
     "exception": false,
     "start_time": "2024-04-01T14:22:51.039603",
     "status": "completed"
    },
    "tags": []
   },
   "outputs": [],
   "source": [
    "# data reference\n",
    "df_ref = df3.drop(['invoice_no', 'stock_code', 'quantity','invoice_date','unit_price','country'], axis = 1).drop_duplicates(ignore_index = True)"
   ]
  },
  {
   "cell_type": "markdown",
   "id": "de200c01",
   "metadata": {
    "papermill": {
     "duration": 0.034389,
     "end_time": "2024-04-01T14:22:51.159093",
     "exception": false,
     "start_time": "2024-04-01T14:22:51.124704",
     "status": "completed"
    },
    "tags": []
   },
   "source": [
    "### 3.1.1 Gross Revenue"
   ]
  },
  {
   "cell_type": "code",
   "execution_count": 21,
   "id": "51a79ce5",
   "metadata": {
    "execution": {
     "iopub.execute_input": "2024-04-01T14:22:51.205046Z",
     "iopub.status.busy": "2024-04-01T14:22:51.204653Z",
     "iopub.status.idle": "2024-04-01T14:22:51.272646Z",
     "shell.execute_reply": "2024-04-01T14:22:51.271842Z"
    },
    "papermill": {
     "duration": 0.094934,
     "end_time": "2024-04-01T14:22:51.274707",
     "exception": false,
     "start_time": "2024-04-01T14:22:51.179773",
     "status": "completed"
    },
    "tags": []
   },
   "outputs": [
    {
     "name": "stderr",
     "output_type": "stream",
     "text": [
      "/tmp/ipykernel_7398/4216613857.py:2: SettingWithCopyWarning: \n",
      "A value is trying to be set on a copy of a slice from a DataFrame.\n",
      "Try using .loc[row_indexer,col_indexer] = value instead\n",
      "\n",
      "See the caveats in the documentation: https://pandas.pydata.org/pandas-docs/stable/user_guide/indexing.html#returning-a-view-versus-a-copy\n",
      "  df2_purchases.loc[:, 'gross_revenue'] = df2_purchases.loc[:, 'quantity'] * df2_purchases.loc[:, 'unit_price']\n"
     ]
    },
    {
     "data": {
      "text/plain": [
       "customer_id       0\n",
       "gross_revenue    91\n",
       "dtype: int64"
      ]
     },
     "execution_count": 21,
     "metadata": {},
     "output_type": "execute_result"
    }
   ],
   "source": [
    "# Gross Revenue (Faturamento) quantity * price\n",
    "df2_purchases.loc[:, 'gross_revenue'] = df2_purchases.loc[:, 'quantity'] * df2_purchases.loc[:, 'unit_price']\n",
    "\n",
    "# Monetary\n",
    "df_monetary = df2_purchases[['customer_id', 'gross_revenue']].groupby('customer_id').sum().reset_index()\n",
    "df_ref = pd.merge(df_ref, df_monetary, on ='customer_id', how='left')\n",
    "df_ref.isna().sum()"
   ]
  },
  {
   "cell_type": "markdown",
   "id": "be1792ff",
   "metadata": {
    "papermill": {
     "duration": 0.030753,
     "end_time": "2024-04-01T14:22:51.328204",
     "exception": false,
     "start_time": "2024-04-01T14:22:51.297451",
     "status": "completed"
    },
    "tags": []
   },
   "source": [
    "### 3.1.2 Recency Days from the last purchase"
   ]
  },
  {
   "cell_type": "code",
   "execution_count": 22,
   "id": "60197ded",
   "metadata": {
    "execution": {
     "iopub.execute_input": "2024-04-01T14:22:51.378653Z",
     "iopub.status.busy": "2024-04-01T14:22:51.378312Z",
     "iopub.status.idle": "2024-04-01T14:22:51.407593Z",
     "shell.execute_reply": "2024-04-01T14:22:51.406937Z"
    },
    "papermill": {
     "duration": 0.055718,
     "end_time": "2024-04-01T14:22:51.409475",
     "exception": false,
     "start_time": "2024-04-01T14:22:51.353757",
     "status": "completed"
    },
    "tags": []
   },
   "outputs": [
    {
     "data": {
      "text/plain": [
       "customer_id       0\n",
       "gross_revenue    91\n",
       "recency_days     91\n",
       "dtype: int64"
      ]
     },
     "execution_count": 22,
     "metadata": {},
     "output_type": "execute_result"
    }
   ],
   "source": [
    "# Recency - Last day purchase\n",
    "df_recency = df2_purchases[['customer_id','invoice_date']].groupby('customer_id').max().reset_index()\n",
    "df_recency['recency_days'] = (df2_purchases['invoice_date'].max() - df_recency['invoice_date']).dt.days\n",
    "df_recency = df_recency[['customer_id','recency_days']].copy()\n",
    "df_ref = pd.merge(df_ref, df_recency, on ='customer_id', how='left')\n",
    "df_ref.isna().sum()"
   ]
  },
  {
   "cell_type": "markdown",
   "id": "2451d85d",
   "metadata": {
    "papermill": {
     "duration": 0.031745,
     "end_time": "2024-04-01T14:22:51.462743",
     "exception": false,
     "start_time": "2024-04-01T14:22:51.430998",
     "status": "completed"
    },
    "tags": []
   },
   "source": [
    "### 3.1.3 Quantity of purchases"
   ]
  },
  {
   "cell_type": "code",
   "execution_count": 23,
   "id": "fc9dda82",
   "metadata": {
    "execution": {
     "iopub.execute_input": "2024-04-01T14:22:51.513003Z",
     "iopub.status.busy": "2024-04-01T14:22:51.512653Z",
     "iopub.status.idle": "2024-04-01T14:22:51.601431Z",
     "shell.execute_reply": "2024-04-01T14:22:51.600771Z"
    },
    "papermill": {
     "duration": 0.114831,
     "end_time": "2024-04-01T14:22:51.603299",
     "exception": false,
     "start_time": "2024-04-01T14:22:51.488468",
     "status": "completed"
    },
    "tags": []
   },
   "outputs": [
    {
     "data": {
      "text/plain": [
       "customer_id       0\n",
       "gross_revenue    91\n",
       "recency_days     91\n",
       "purchases        91\n",
       "dtype: int64"
      ]
     },
     "execution_count": 23,
     "metadata": {},
     "output_type": "execute_result"
    }
   ],
   "source": [
    "df_purch = df2_purchases.loc[:, ['customer_id','invoice_no']].drop_duplicates().groupby('customer_id').count().reset_index().rename(columns={'invoice_no': 'purchases'})\n",
    "df_ref = pd.merge(df_ref, df_purch, on ='customer_id', how='left')\n",
    "df_ref.isna().sum()"
   ]
  },
  {
   "cell_type": "markdown",
   "id": "a1d05d34",
   "metadata": {
    "papermill": {
     "duration": 0.028532,
     "end_time": "2024-04-01T14:22:51.654614",
     "exception": false,
     "start_time": "2024-04-01T14:22:51.626082",
     "status": "completed"
    },
    "tags": []
   },
   "source": [
    "### 3.1.5 Quantity of Items purchased"
   ]
  },
  {
   "cell_type": "code",
   "execution_count": 24,
   "id": "a9beda77",
   "metadata": {
    "execution": {
     "iopub.execute_input": "2024-04-01T14:22:51.702684Z",
     "iopub.status.busy": "2024-04-01T14:22:51.702339Z",
     "iopub.status.idle": "2024-04-01T14:22:51.738899Z",
     "shell.execute_reply": "2024-04-01T14:22:51.737881Z"
    },
    "papermill": {
     "duration": 0.064843,
     "end_time": "2024-04-01T14:22:51.741003",
     "exception": false,
     "start_time": "2024-04-01T14:22:51.676160",
     "status": "completed"
    },
    "tags": []
   },
   "outputs": [
    {
     "data": {
      "text/plain": [
       "customer_id         0\n",
       "gross_revenue      91\n",
       "recency_days       91\n",
       "purchases          91\n",
       "items_purchased    91\n",
       "dtype: int64"
      ]
     },
     "execution_count": 24,
     "metadata": {},
     "output_type": "execute_result"
    }
   ],
   "source": [
    "df_items_purch = df2_purchases.loc[:, ['customer_id','quantity']].groupby('customer_id').sum().reset_index().rename(columns={'quantity': 'items_purchased'})\n",
    "df_ref = pd.merge(df_ref, df_items_purch, on ='customer_id', how='left')\n",
    "df_ref.isna().sum()"
   ]
  },
  {
   "cell_type": "markdown",
   "id": "ef4d935b",
   "metadata": {
    "papermill": {
     "duration": 0.025943,
     "end_time": "2024-04-01T14:22:51.795969",
     "exception": false,
     "start_time": "2024-04-01T14:22:51.770026",
     "status": "completed"
    },
    "tags": []
   },
   "source": [
    "### 3.1.6 Avg Ticket Value"
   ]
  },
  {
   "cell_type": "code",
   "execution_count": 25,
   "id": "6cdda70b",
   "metadata": {
    "execution": {
     "iopub.execute_input": "2024-04-01T14:22:51.857381Z",
     "iopub.status.busy": "2024-04-01T14:22:51.857048Z",
     "iopub.status.idle": "2024-04-01T14:22:51.969674Z",
     "shell.execute_reply": "2024-04-01T14:22:51.968681Z"
    },
    "papermill": {
     "duration": 0.146762,
     "end_time": "2024-04-01T14:22:51.971738",
     "exception": false,
     "start_time": "2024-04-01T14:22:51.824976",
     "status": "completed"
    },
    "tags": []
   },
   "outputs": [
    {
     "data": {
      "text/plain": [
       "customer_id         0\n",
       "gross_revenue      91\n",
       "recency_days       91\n",
       "purchases          91\n",
       "items_purchased    91\n",
       "avg_ticket         91\n",
       "dtype: int64"
      ]
     },
     "execution_count": 25,
     "metadata": {},
     "output_type": "execute_result"
    }
   ],
   "source": [
    "df_gross = df2_purchases.loc[:, ['customer_id', 'invoice_no','gross_revenue']].groupby(['customer_id','invoice_no']).sum().reset_index()\n",
    "df_ticket = df_gross.loc[:,['customer_id','gross_revenue']].groupby('customer_id').mean().reset_index().rename(columns={'gross_revenue': 'avg_ticket'})\n",
    "df_ref = pd.merge(df_ref, df_ticket, on ='customer_id', how='left')\n",
    "df_ref.isna().sum()\n"
   ]
  },
  {
   "cell_type": "markdown",
   "id": "ad2ebacd",
   "metadata": {
    "papermill": {
     "duration": 0.026349,
     "end_time": "2024-04-01T14:22:52.022036",
     "exception": false,
     "start_time": "2024-04-01T14:22:51.995687",
     "status": "completed"
    },
    "tags": []
   },
   "source": [
    "### 3.1.7 Avg Recency Days"
   ]
  },
  {
   "cell_type": "code",
   "execution_count": 26,
   "id": "3d922915",
   "metadata": {
    "execution": {
     "iopub.execute_input": "2024-04-01T14:22:52.078729Z",
     "iopub.status.busy": "2024-04-01T14:22:52.078421Z",
     "iopub.status.idle": "2024-04-01T14:22:52.755131Z",
     "shell.execute_reply": "2024-04-01T14:22:52.754385Z"
    },
    "papermill": {
     "duration": 0.70689,
     "end_time": "2024-04-01T14:22:52.758492",
     "exception": false,
     "start_time": "2024-04-01T14:22:52.051602",
     "status": "completed"
    },
    "tags": []
   },
   "outputs": [
    {
     "data": {
      "text/plain": [
       "customer_id            0\n",
       "gross_revenue         91\n",
       "recency_days          91\n",
       "purchases             91\n",
       "items_purchased       91\n",
       "avg_ticket            91\n",
       "avg_recency_days    2816\n",
       "dtype: int64"
      ]
     },
     "execution_count": 26,
     "metadata": {},
     "output_type": "execute_result"
    }
   ],
   "source": [
    "df_aux = df2[['customer_id', 'invoice_date']].drop_duplicates().sort_values(['customer_id', 'invoice_date'], ascending=[True, True])\n",
    "df_aux['next_customer_id'] = df_aux['customer_id'].shift()\n",
    "df_aux['previous_date'] = df_aux['invoice_date'].shift()\n",
    "\n",
    "df_aux['avg_recency_days'] = df_aux.apply(lambda x: (x['invoice_date'] - x['previous_date']).days if x['customer_id'] == x['next_customer_id'] else np.nan, axis = 1)\n",
    "\n",
    "df_aux = df_aux.drop(columns=['invoice_date', 'next_customer_id', 'previous_date'], axis = 1).dropna()\n",
    "\n",
    "df_avg_recency_days = df_aux.groupby('customer_id').mean().reset_index()\n",
    "df_ref = pd.merge(df_ref, df_avg_recency_days, on ='customer_id', how='left')\n",
    "df_ref.isna().sum()"
   ]
  },
  {
   "cell_type": "markdown",
   "id": "b65259c1",
   "metadata": {
    "papermill": {
     "duration": 0.033008,
     "end_time": "2024-04-01T14:22:52.870251",
     "exception": false,
     "start_time": "2024-04-01T14:22:52.837243",
     "status": "completed"
    },
    "tags": []
   },
   "source": [
    "### 3.1.9 Number of Orders Returned"
   ]
  },
  {
   "cell_type": "code",
   "execution_count": 27,
   "id": "577ddf46",
   "metadata": {
    "execution": {
     "iopub.execute_input": "2024-04-01T14:22:52.923553Z",
     "iopub.status.busy": "2024-04-01T14:22:52.923219Z",
     "iopub.status.idle": "2024-04-01T14:22:52.942306Z",
     "shell.execute_reply": "2024-04-01T14:22:52.941633Z"
    },
    "papermill": {
     "duration": 0.048293,
     "end_time": "2024-04-01T14:22:52.943965",
     "exception": false,
     "start_time": "2024-04-01T14:22:52.895672",
     "status": "completed"
    },
    "tags": []
   },
   "outputs": [
    {
     "data": {
      "text/plain": [
       "customer_id            0\n",
       "gross_revenue         91\n",
       "recency_days          91\n",
       "purchases             91\n",
       "items_purchased       91\n",
       "avg_ticket            91\n",
       "avg_recency_days    2816\n",
       "number_returns         0\n",
       "dtype: int64"
      ]
     },
     "execution_count": 27,
     "metadata": {},
     "output_type": "execute_result"
    }
   ],
   "source": [
    "# Number of Returns\n",
    "df_number_returns = df2_returns.loc[:, ['customer_id','invoice_no']].drop_duplicates().groupby('customer_id').count().reset_index().rename(columns = {'invoice_no': 'number_returns'})\n",
    "df_ref = pd.merge(df_ref, df_number_returns, on ='customer_id', how='left')\n",
    "df_ref.loc[df_ref['number_returns'].isna(), 'number_returns'] = 0  \n",
    "df_ref.isna().sum()"
   ]
  },
  {
   "cell_type": "markdown",
   "id": "5758f743",
   "metadata": {
    "papermill": {
     "duration": 0.047155,
     "end_time": "2024-04-01T14:22:53.019462",
     "exception": false,
     "start_time": "2024-04-01T14:22:52.972307",
     "status": "completed"
    },
    "tags": []
   },
   "source": [
    "### 3.1.10 Monetary value of returns"
   ]
  },
  {
   "cell_type": "code",
   "execution_count": 28,
   "id": "5da8503b",
   "metadata": {
    "execution": {
     "iopub.execute_input": "2024-04-01T14:22:53.069928Z",
     "iopub.status.busy": "2024-04-01T14:22:53.069572Z",
     "iopub.status.idle": "2024-04-01T14:22:53.199235Z",
     "shell.execute_reply": "2024-04-01T14:22:53.195416Z"
    },
    "papermill": {
     "duration": 0.176929,
     "end_time": "2024-04-01T14:22:53.219037",
     "exception": false,
     "start_time": "2024-04-01T14:22:53.042108",
     "status": "completed"
    },
    "tags": []
   },
   "outputs": [
    {
     "name": "stderr",
     "output_type": "stream",
     "text": [
      "/tmp/ipykernel_7398/2122528216.py:2: SettingWithCopyWarning: \n",
      "A value is trying to be set on a copy of a slice from a DataFrame.\n",
      "Try using .loc[row_indexer,col_indexer] = value instead\n",
      "\n",
      "See the caveats in the documentation: https://pandas.pydata.org/pandas-docs/stable/user_guide/indexing.html#returning-a-view-versus-a-copy\n",
      "  df2_returns['monetary_returns'] = df2_returns.loc[:, ['customer_id','quantity','unit_price']].apply(lambda x: x['quantity'] * x['unit_price'] * (-1), axis = 1)\n"
     ]
    },
    {
     "data": {
      "text/plain": [
       "customer_id            0\n",
       "gross_revenue         91\n",
       "recency_days          91\n",
       "purchases             91\n",
       "items_purchased       91\n",
       "avg_ticket            91\n",
       "avg_recency_days    2816\n",
       "number_returns         0\n",
       "monetary_returns       0\n",
       "dtype: int64"
      ]
     },
     "execution_count": 28,
     "metadata": {},
     "output_type": "execute_result"
    }
   ],
   "source": [
    "# Number of Returns\n",
    "df2_returns['monetary_returns'] = df2_returns.loc[:, ['customer_id','quantity','unit_price']].apply(lambda x: x['quantity'] * x['unit_price'] * (-1), axis = 1)\n",
    "df2_monetary_returns = df2_returns.loc[:, ['customer_id','monetary_returns']].groupby('customer_id').sum().reset_index()\n",
    "df_ref = pd.merge(df_ref, df2_monetary_returns, on ='customer_id', how='left')\n",
    "df_ref.loc[df_ref['monetary_returns'].isna(), 'monetary_returns'] = 0  \n",
    "df_ref.isna().sum()"
   ]
  },
  {
   "cell_type": "markdown",
   "id": "60209b54",
   "metadata": {
    "papermill": {
     "duration": 0.026339,
     "end_time": "2024-04-01T14:22:53.267395",
     "exception": false,
     "start_time": "2024-04-01T14:22:53.241056",
     "status": "completed"
    },
    "tags": []
   },
   "source": [
    "### 3.1.13 Delta_buy_return"
   ]
  },
  {
   "cell_type": "code",
   "execution_count": 29,
   "id": "d0bdfaf0",
   "metadata": {
    "execution": {
     "iopub.execute_input": "2024-04-01T14:22:53.316872Z",
     "iopub.status.busy": "2024-04-01T14:22:53.316485Z",
     "iopub.status.idle": "2024-04-01T14:22:53.321489Z",
     "shell.execute_reply": "2024-04-01T14:22:53.320783Z"
    },
    "papermill": {
     "duration": 0.033359,
     "end_time": "2024-04-01T14:22:53.323565",
     "exception": false,
     "start_time": "2024-04-01T14:22:53.290206",
     "status": "completed"
    },
    "tags": []
   },
   "outputs": [],
   "source": [
    "df_ref['delta_buy_return'] = df_ref['monetary_returns'] / df_ref['gross_revenue'] "
   ]
  },
  {
   "cell_type": "markdown",
   "id": "07c5343b",
   "metadata": {
    "papermill": {
     "duration": 0.029269,
     "end_time": "2024-04-01T14:22:53.377390",
     "exception": false,
     "start_time": "2024-04-01T14:22:53.348121",
     "status": "completed"
    },
    "tags": []
   },
   "source": [
    "# 4.0 EDA"
   ]
  },
  {
   "cell_type": "code",
   "execution_count": 30,
   "id": "328f5dcb",
   "metadata": {
    "execution": {
     "iopub.execute_input": "2024-04-01T14:22:53.425399Z",
     "iopub.status.busy": "2024-04-01T14:22:53.425049Z",
     "iopub.status.idle": "2024-04-01T14:22:53.430144Z",
     "shell.execute_reply": "2024-04-01T14:22:53.429550Z"
    },
    "papermill": {
     "duration": 0.031757,
     "end_time": "2024-04-01T14:22:53.432685",
     "exception": false,
     "start_time": "2024-04-01T14:22:53.400928",
     "status": "completed"
    },
    "tags": []
   },
   "outputs": [],
   "source": [
    "df4 = df_ref.dropna()\n"
   ]
  },
  {
   "cell_type": "markdown",
   "id": "0f46d0da",
   "metadata": {
    "papermill": {
     "duration": 0.041278,
     "end_time": "2024-04-01T14:22:53.507605",
     "exception": false,
     "start_time": "2024-04-01T14:22:53.466327",
     "status": "completed"
    },
    "tags": []
   },
   "source": [
    "## 4.3 Estudo do Espaço"
   ]
  },
  {
   "cell_type": "code",
   "execution_count": 31,
   "id": "4ec6c303",
   "metadata": {
    "execution": {
     "iopub.execute_input": "2024-04-01T14:22:53.560330Z",
     "iopub.status.busy": "2024-04-01T14:22:53.559938Z",
     "iopub.status.idle": "2024-04-01T14:22:53.563913Z",
     "shell.execute_reply": "2024-04-01T14:22:53.562959Z"
    },
    "papermill": {
     "duration": 0.033707,
     "end_time": "2024-04-01T14:22:53.566284",
     "exception": false,
     "start_time": "2024-04-01T14:22:53.532577",
     "status": "completed"
    },
    "tags": []
   },
   "outputs": [],
   "source": [
    "feature_selected = ['items_purchased',\n",
    " 'avg_ticket',\n",
    " 'number_returns',\n",
    " 'monetary_returns',\n",
    " 'delta_buy_return','recency_days']"
   ]
  },
  {
   "cell_type": "code",
   "execution_count": 32,
   "id": "aa47ab6f",
   "metadata": {
    "execution": {
     "iopub.execute_input": "2024-04-01T14:22:53.621754Z",
     "iopub.status.busy": "2024-04-01T14:22:53.621409Z",
     "iopub.status.idle": "2024-04-01T14:22:53.627164Z",
     "shell.execute_reply": "2024-04-01T14:22:53.626354Z"
    },
    "papermill": {
     "duration": 0.03713,
     "end_time": "2024-04-01T14:22:53.629056",
     "exception": false,
     "start_time": "2024-04-01T14:22:53.591926",
     "status": "completed"
    },
    "tags": []
   },
   "outputs": [],
   "source": [
    "df43 = df4.drop(columns=['customer_id'], axis = 1).copy()\n"
   ]
  },
  {
   "cell_type": "code",
   "execution_count": 33,
   "id": "9802bed0",
   "metadata": {
    "execution": {
     "iopub.execute_input": "2024-04-01T14:22:53.678125Z",
     "iopub.status.busy": "2024-04-01T14:22:53.677790Z",
     "iopub.status.idle": "2024-04-01T14:22:53.683422Z",
     "shell.execute_reply": "2024-04-01T14:22:53.681331Z"
    },
    "papermill": {
     "duration": 0.031079,
     "end_time": "2024-04-01T14:22:53.685210",
     "exception": false,
     "start_time": "2024-04-01T14:22:53.654131",
     "status": "completed"
    },
    "tags": []
   },
   "outputs": [],
   "source": [
    "mms = pp.MinMaxScaler()"
   ]
  },
  {
   "cell_type": "code",
   "execution_count": 34,
   "id": "bf5cddc6",
   "metadata": {
    "execution": {
     "iopub.execute_input": "2024-04-01T14:22:53.753615Z",
     "iopub.status.busy": "2024-04-01T14:22:53.753260Z",
     "iopub.status.idle": "2024-04-01T14:22:53.783034Z",
     "shell.execute_reply": "2024-04-01T14:22:53.782409Z"
    },
    "papermill": {
     "duration": 0.058388,
     "end_time": "2024-04-01T14:22:53.784953",
     "exception": false,
     "start_time": "2024-04-01T14:22:53.726565",
     "status": "completed"
    },
    "tags": []
   },
   "outputs": [],
   "source": [
    "df43['gross_revenue'] = mms.fit_transform(df43[['gross_revenue']])\n",
    "df43['recency_days'] = mms.fit_transform(df43[['recency_days']])\n",
    "df43['items_purchased'] = mms.fit_transform(df43[['items_purchased']])\n",
    "df43['avg_ticket'] = mms.fit_transform(df43[['avg_ticket']])\n",
    "df43['number_returns'] = mms.fit_transform(df43[['number_returns']])\n",
    "df43['monetary_returns'] = mms.fit_transform(df43[['monetary_returns']])\n",
    "df43['delta_buy_return'] = mms.fit_transform(df43[['delta_buy_return']])\n",
    "\n",
    "\n",
    "\n",
    "X = df43[feature_selected].copy()\n",
    "y = df4['gross_revenue'].copy()"
   ]
  },
  {
   "cell_type": "markdown",
   "id": "bdb12e09",
   "metadata": {
    "papermill": {
     "duration": 0.04028,
     "end_time": "2024-04-01T14:22:53.849058",
     "exception": false,
     "start_time": "2024-04-01T14:22:53.808778",
     "status": "completed"
    },
    "tags": []
   },
   "source": [
    "### 4.3.4 Tree Based Embedding"
   ]
  },
  {
   "cell_type": "code",
   "execution_count": 35,
   "id": "67e42b95",
   "metadata": {
    "execution": {
     "iopub.execute_input": "2024-04-01T14:22:53.903574Z",
     "iopub.status.busy": "2024-04-01T14:22:53.903234Z",
     "iopub.status.idle": "2024-04-01T14:22:59.396457Z",
     "shell.execute_reply": "2024-04-01T14:22:59.395543Z"
    },
    "papermill": {
     "duration": 5.526346,
     "end_time": "2024-04-01T14:22:59.399546",
     "exception": false,
     "start_time": "2024-04-01T14:22:53.873200",
     "status": "completed"
    },
    "tags": []
   },
   "outputs": [],
   "source": [
    "# model definition\n",
    "# rf_model = RandomForestRegressor(n_estimators= 250, random_state=42)\n",
    "rf_model = pickle.load(open(path+'/models/rf_model.pkl', 'rb'))\n",
    "\n",
    "# model training\n",
    "rf_model.fit(X, y)\n",
    "\n",
    "# df leaf\n",
    "df_leaf = pd.DataFrame(rf_model.apply(X))\n",
    "\n",
    "# pickle.dump(rf_model, open('/home/tiagobarreto/DS/repos/clusterização/pa005_clustering/models/rf_model.pkl', 'wb'))"
   ]
  },
  {
   "cell_type": "code",
   "execution_count": 36,
   "id": "eaf065ea",
   "metadata": {
    "execution": {
     "iopub.execute_input": "2024-04-01T14:22:59.450171Z",
     "iopub.status.busy": "2024-04-01T14:22:59.449765Z",
     "iopub.status.idle": "2024-04-01T14:23:22.341210Z",
     "shell.execute_reply": "2024-04-01T14:23:22.340593Z"
    },
    "papermill": {
     "duration": 22.919795,
     "end_time": "2024-04-01T14:23:22.342837",
     "exception": false,
     "start_time": "2024-04-01T14:22:59.423042",
     "status": "completed"
    },
    "tags": []
   },
   "outputs": [
    {
     "name": "stderr",
     "output_type": "stream",
     "text": [
      "/home/tiagobarreto/.pyenv/versions/3.11.4/envs/cluster/lib/python3.11/site-packages/umap/umap_.py:1943: UserWarning: n_jobs value -1 overridden to 1 by setting random_state. Use no seed for parallelism.\n",
      "  warn(f\"n_jobs value {self.n_jobs} overridden to 1 by setting random_state. Use no seed for parallelism.\")\n"
     ]
    },
    {
     "name": "stderr",
     "output_type": "stream",
     "text": [
      "/tmp/ipykernel_7398/66581022.py:21: SettingWithCopyWarning: \n",
      "A value is trying to be set on a copy of a slice from a DataFrame.\n",
      "Try using .loc[row_indexer,col_indexer] = value instead\n",
      "\n",
      "See the caveats in the documentation: https://pandas.pydata.org/pandas-docs/stable/user_guide/indexing.html#returning-a-view-versus-a-copy\n",
      "  df4['embedding_x'] = embedding[:, 0]\n",
      "/tmp/ipykernel_7398/66581022.py:22: SettingWithCopyWarning: \n",
      "A value is trying to be set on a copy of a slice from a DataFrame.\n",
      "Try using .loc[row_indexer,col_indexer] = value instead\n",
      "\n",
      "See the caveats in the documentation: https://pandas.pydata.org/pandas-docs/stable/user_guide/indexing.html#returning-a-view-versus-a-copy\n",
      "  df4['embedding_y'] = embedding[:, 1]\n",
      "/tmp/ipykernel_7398/66581022.py:23: SettingWithCopyWarning: \n",
      "A value is trying to be set on a copy of a slice from a DataFrame.\n",
      "Try using .loc[row_indexer,col_indexer] = value instead\n",
      "\n",
      "See the caveats in the documentation: https://pandas.pydata.org/pandas-docs/stable/user_guide/indexing.html#returning-a-view-versus-a-copy\n",
      "  df4['embedding_z'] = embedding[:, 2]\n",
      "/tmp/ipykernel_7398/66581022.py:24: SettingWithCopyWarning: \n",
      "A value is trying to be set on a copy of a slice from a DataFrame.\n",
      "Try using .loc[row_indexer,col_indexer] = value instead\n",
      "\n",
      "See the caveats in the documentation: https://pandas.pydata.org/pandas-docs/stable/user_guide/indexing.html#returning-a-view-versus-a-copy\n",
      "  df4['embedding_a'] = embedding[:, 3]\n",
      "/tmp/ipykernel_7398/66581022.py:25: SettingWithCopyWarning: \n",
      "A value is trying to be set on a copy of a slice from a DataFrame.\n",
      "Try using .loc[row_indexer,col_indexer] = value instead\n",
      "\n",
      "See the caveats in the documentation: https://pandas.pydata.org/pandas-docs/stable/user_guide/indexing.html#returning-a-view-versus-a-copy\n",
      "  df4['embedding_b'] = embedding[:, 4]\n",
      "/tmp/ipykernel_7398/66581022.py:26: SettingWithCopyWarning: \n",
      "A value is trying to be set on a copy of a slice from a DataFrame.\n",
      "Try using .loc[row_indexer,col_indexer] = value instead\n",
      "\n",
      "See the caveats in the documentation: https://pandas.pydata.org/pandas-docs/stable/user_guide/indexing.html#returning-a-view-versus-a-copy\n",
      "  df4['embedding_c'] = embedding[:, 5]\n",
      "/tmp/ipykernel_7398/66581022.py:27: SettingWithCopyWarning: \n",
      "A value is trying to be set on a copy of a slice from a DataFrame.\n",
      "Try using .loc[row_indexer,col_indexer] = value instead\n",
      "\n",
      "See the caveats in the documentation: https://pandas.pydata.org/pandas-docs/stable/user_guide/indexing.html#returning-a-view-versus-a-copy\n",
      "  df4['embedding_d'] = embedding[:, 6]\n",
      "/tmp/ipykernel_7398/66581022.py:28: SettingWithCopyWarning: \n",
      "A value is trying to be set on a copy of a slice from a DataFrame.\n",
      "Try using .loc[row_indexer,col_indexer] = value instead\n",
      "\n",
      "See the caveats in the documentation: https://pandas.pydata.org/pandas-docs/stable/user_guide/indexing.html#returning-a-view-versus-a-copy\n",
      "  df4['embedding_e'] = embedding[:, 7]\n",
      "/tmp/ipykernel_7398/66581022.py:29: SettingWithCopyWarning: \n",
      "A value is trying to be set on a copy of a slice from a DataFrame.\n",
      "Try using .loc[row_indexer,col_indexer] = value instead\n",
      "\n",
      "See the caveats in the documentation: https://pandas.pydata.org/pandas-docs/stable/user_guide/indexing.html#returning-a-view-versus-a-copy\n",
      "  df4['embedding_f'] = embedding[:, 8]\n",
      "/tmp/ipykernel_7398/66581022.py:30: SettingWithCopyWarning: \n",
      "A value is trying to be set on a copy of a slice from a DataFrame.\n",
      "Try using .loc[row_indexer,col_indexer] = value instead\n",
      "\n",
      "See the caveats in the documentation: https://pandas.pydata.org/pandas-docs/stable/user_guide/indexing.html#returning-a-view-versus-a-copy\n",
      "  df4['embedding_g'] = embedding[:, 9]\n"
     ]
    }
   ],
   "source": [
    "reducer = umap.UMAP(n_components= 10, random_state= 42)\n",
    "embedding = reducer.fit_transform(df_leaf)\n",
    "\n",
    "# embedding\n",
    "df_tree = pd.DataFrame()\n",
    "# df_tree\n",
    "df_tree['embedding_x'] = embedding[:, 0]\n",
    "df_tree['embedding_y'] = embedding[:, 1]\n",
    "df_tree['embedding_z'] = embedding[:, 2]\n",
    "df_tree['embedding_a'] = embedding[:, 3]\n",
    "df_tree['embedding_b'] = embedding[:, 4]\n",
    "df_tree['embedding_c'] = embedding[:, 5]\n",
    "df_tree['embedding_d'] = embedding[:, 6]\n",
    "df_tree['embedding_e'] = embedding[:, 7]\n",
    "df_tree['embedding_f'] = embedding[:, 8]\n",
    "df_tree['embedding_g'] = embedding[:, 9]\n",
    "\n",
    "\n",
    "\n",
    "# df4 \n",
    "df4['embedding_x'] = embedding[:, 0]\n",
    "df4['embedding_y'] = embedding[:, 1]\n",
    "df4['embedding_z'] = embedding[:, 2]\n",
    "df4['embedding_a'] = embedding[:, 3]\n",
    "df4['embedding_b'] = embedding[:, 4]\n",
    "df4['embedding_c'] = embedding[:, 5]\n",
    "df4['embedding_d'] = embedding[:, 6]\n",
    "df4['embedding_e'] = embedding[:, 7]\n",
    "df4['embedding_f'] = embedding[:, 8]\n",
    "df4['embedding_g'] = embedding[:, 9]\n",
    "\n"
   ]
  },
  {
   "cell_type": "markdown",
   "id": "089f626f",
   "metadata": {
    "papermill": {
     "duration": 0.030928,
     "end_time": "2024-04-01T14:23:22.403712",
     "exception": false,
     "start_time": "2024-04-01T14:23:22.372784",
     "status": "completed"
    },
    "tags": []
   },
   "source": [
    "# 5.0 Data Preparation"
   ]
  },
  {
   "cell_type": "markdown",
   "id": "507b3af6",
   "metadata": {
    "papermill": {
     "duration": 0.02861,
     "end_time": "2024-04-01T14:23:22.456507",
     "exception": false,
     "start_time": "2024-04-01T14:23:22.427897",
     "status": "completed"
    },
    "tags": []
   },
   "source": [
    "# 7.0 HyperParameter Fine-Tunning"
   ]
  },
  {
   "cell_type": "code",
   "execution_count": 37,
   "id": "0e2c64a6",
   "metadata": {
    "execution": {
     "iopub.execute_input": "2024-04-01T14:23:22.509721Z",
     "iopub.status.busy": "2024-04-01T14:23:22.509361Z",
     "iopub.status.idle": "2024-04-01T14:23:22.513942Z",
     "shell.execute_reply": "2024-04-01T14:23:22.513193Z"
    },
    "papermill": {
     "duration": 0.035215,
     "end_time": "2024-04-01T14:23:22.518324",
     "exception": false,
     "start_time": "2024-04-01T14:23:22.483109",
     "status": "completed"
    },
    "tags": []
   },
   "outputs": [],
   "source": [
    "X = df_tree.copy()"
   ]
  },
  {
   "cell_type": "code",
   "execution_count": 38,
   "id": "3e6f59e7",
   "metadata": {
    "execution": {
     "iopub.execute_input": "2024-04-01T14:23:22.569866Z",
     "iopub.status.busy": "2024-04-01T14:23:22.569471Z",
     "iopub.status.idle": "2024-04-01T14:23:22.573128Z",
     "shell.execute_reply": "2024-04-01T14:23:22.572418Z"
    },
    "papermill": {
     "duration": 0.032783,
     "end_time": "2024-04-01T14:23:22.575029",
     "exception": false,
     "start_time": "2024-04-01T14:23:22.542246",
     "status": "completed"
    },
    "tags": []
   },
   "outputs": [],
   "source": [
    "clusters = np.arange(2, 26, 1)"
   ]
  },
  {
   "cell_type": "markdown",
   "id": "b8ed1289",
   "metadata": {
    "papermill": {
     "duration": 0.025528,
     "end_time": "2024-04-01T14:23:22.626251",
     "exception": false,
     "start_time": "2024-04-01T14:23:22.600723",
     "status": "completed"
    },
    "tags": []
   },
   "source": [
    "## 7.1 K-Means"
   ]
  },
  {
   "cell_type": "code",
   "execution_count": 39,
   "id": "77acec53",
   "metadata": {
    "execution": {
     "iopub.execute_input": "2024-04-01T14:23:22.679510Z",
     "iopub.status.busy": "2024-04-01T14:23:22.679165Z",
     "iopub.status.idle": "2024-04-01T14:23:28.644360Z",
     "shell.execute_reply": "2024-04-01T14:23:28.643803Z"
    },
    "papermill": {
     "duration": 5.994802,
     "end_time": "2024-04-01T14:23:28.646230",
     "exception": false,
     "start_time": "2024-04-01T14:23:22.651428",
     "status": "completed"
    },
    "tags": []
   },
   "outputs": [
    {
     "name": "stderr",
     "output_type": "stream",
     "text": [
      "/home/tiagobarreto/.pyenv/versions/3.11.4/envs/cluster/lib/python3.11/site-packages/sklearn/cluster/_kmeans.py:1416: FutureWarning: The default value of `n_init` will change from 10 to 'auto' in 1.4. Set the value of `n_init` explicitly to suppress the warning\n",
      "  super()._check_params_vs_input(X, default_n_init=10)\n"
     ]
    },
    {
     "name": "stderr",
     "output_type": "stream",
     "text": [
      "/home/tiagobarreto/.pyenv/versions/3.11.4/envs/cluster/lib/python3.11/site-packages/sklearn/cluster/_kmeans.py:1416: FutureWarning: The default value of `n_init` will change from 10 to 'auto' in 1.4. Set the value of `n_init` explicitly to suppress the warning\n",
      "  super()._check_params_vs_input(X, default_n_init=10)\n"
     ]
    },
    {
     "name": "stderr",
     "output_type": "stream",
     "text": [
      "/home/tiagobarreto/.pyenv/versions/3.11.4/envs/cluster/lib/python3.11/site-packages/sklearn/cluster/_kmeans.py:1416: FutureWarning: The default value of `n_init` will change from 10 to 'auto' in 1.4. Set the value of `n_init` explicitly to suppress the warning\n",
      "  super()._check_params_vs_input(X, default_n_init=10)\n",
      "/home/tiagobarreto/.pyenv/versions/3.11.4/envs/cluster/lib/python3.11/site-packages/sklearn/cluster/_kmeans.py:1416: FutureWarning: The default value of `n_init` will change from 10 to 'auto' in 1.4. Set the value of `n_init` explicitly to suppress the warning\n",
      "  super()._check_params_vs_input(X, default_n_init=10)\n"
     ]
    },
    {
     "name": "stderr",
     "output_type": "stream",
     "text": [
      "/home/tiagobarreto/.pyenv/versions/3.11.4/envs/cluster/lib/python3.11/site-packages/sklearn/cluster/_kmeans.py:1416: FutureWarning: The default value of `n_init` will change from 10 to 'auto' in 1.4. Set the value of `n_init` explicitly to suppress the warning\n",
      "  super()._check_params_vs_input(X, default_n_init=10)\n",
      "/home/tiagobarreto/.pyenv/versions/3.11.4/envs/cluster/lib/python3.11/site-packages/sklearn/cluster/_kmeans.py:1416: FutureWarning: The default value of `n_init` will change from 10 to 'auto' in 1.4. Set the value of `n_init` explicitly to suppress the warning\n",
      "  super()._check_params_vs_input(X, default_n_init=10)\n"
     ]
    },
    {
     "name": "stderr",
     "output_type": "stream",
     "text": [
      "/home/tiagobarreto/.pyenv/versions/3.11.4/envs/cluster/lib/python3.11/site-packages/sklearn/cluster/_kmeans.py:1416: FutureWarning: The default value of `n_init` will change from 10 to 'auto' in 1.4. Set the value of `n_init` explicitly to suppress the warning\n",
      "  super()._check_params_vs_input(X, default_n_init=10)\n"
     ]
    },
    {
     "name": "stderr",
     "output_type": "stream",
     "text": [
      "/home/tiagobarreto/.pyenv/versions/3.11.4/envs/cluster/lib/python3.11/site-packages/sklearn/cluster/_kmeans.py:1416: FutureWarning: The default value of `n_init` will change from 10 to 'auto' in 1.4. Set the value of `n_init` explicitly to suppress the warning\n",
      "  super()._check_params_vs_input(X, default_n_init=10)\n"
     ]
    },
    {
     "name": "stderr",
     "output_type": "stream",
     "text": [
      "/home/tiagobarreto/.pyenv/versions/3.11.4/envs/cluster/lib/python3.11/site-packages/sklearn/cluster/_kmeans.py:1416: FutureWarning: The default value of `n_init` will change from 10 to 'auto' in 1.4. Set the value of `n_init` explicitly to suppress the warning\n",
      "  super()._check_params_vs_input(X, default_n_init=10)\n"
     ]
    },
    {
     "name": "stderr",
     "output_type": "stream",
     "text": [
      "/home/tiagobarreto/.pyenv/versions/3.11.4/envs/cluster/lib/python3.11/site-packages/sklearn/cluster/_kmeans.py:1416: FutureWarning: The default value of `n_init` will change from 10 to 'auto' in 1.4. Set the value of `n_init` explicitly to suppress the warning\n",
      "  super()._check_params_vs_input(X, default_n_init=10)\n"
     ]
    },
    {
     "name": "stderr",
     "output_type": "stream",
     "text": [
      "/home/tiagobarreto/.pyenv/versions/3.11.4/envs/cluster/lib/python3.11/site-packages/sklearn/cluster/_kmeans.py:1416: FutureWarning: The default value of `n_init` will change from 10 to 'auto' in 1.4. Set the value of `n_init` explicitly to suppress the warning\n",
      "  super()._check_params_vs_input(X, default_n_init=10)\n"
     ]
    },
    {
     "name": "stderr",
     "output_type": "stream",
     "text": [
      "/home/tiagobarreto/.pyenv/versions/3.11.4/envs/cluster/lib/python3.11/site-packages/sklearn/cluster/_kmeans.py:1416: FutureWarning: The default value of `n_init` will change from 10 to 'auto' in 1.4. Set the value of `n_init` explicitly to suppress the warning\n",
      "  super()._check_params_vs_input(X, default_n_init=10)\n"
     ]
    },
    {
     "name": "stderr",
     "output_type": "stream",
     "text": [
      "/home/tiagobarreto/.pyenv/versions/3.11.4/envs/cluster/lib/python3.11/site-packages/sklearn/cluster/_kmeans.py:1416: FutureWarning: The default value of `n_init` will change from 10 to 'auto' in 1.4. Set the value of `n_init` explicitly to suppress the warning\n",
      "  super()._check_params_vs_input(X, default_n_init=10)\n"
     ]
    },
    {
     "name": "stderr",
     "output_type": "stream",
     "text": [
      "/home/tiagobarreto/.pyenv/versions/3.11.4/envs/cluster/lib/python3.11/site-packages/sklearn/cluster/_kmeans.py:1416: FutureWarning: The default value of `n_init` will change from 10 to 'auto' in 1.4. Set the value of `n_init` explicitly to suppress the warning\n",
      "  super()._check_params_vs_input(X, default_n_init=10)\n"
     ]
    },
    {
     "name": "stderr",
     "output_type": "stream",
     "text": [
      "/home/tiagobarreto/.pyenv/versions/3.11.4/envs/cluster/lib/python3.11/site-packages/sklearn/cluster/_kmeans.py:1416: FutureWarning: The default value of `n_init` will change from 10 to 'auto' in 1.4. Set the value of `n_init` explicitly to suppress the warning\n",
      "  super()._check_params_vs_input(X, default_n_init=10)\n"
     ]
    },
    {
     "name": "stderr",
     "output_type": "stream",
     "text": [
      "/home/tiagobarreto/.pyenv/versions/3.11.4/envs/cluster/lib/python3.11/site-packages/sklearn/cluster/_kmeans.py:1416: FutureWarning: The default value of `n_init` will change from 10 to 'auto' in 1.4. Set the value of `n_init` explicitly to suppress the warning\n",
      "  super()._check_params_vs_input(X, default_n_init=10)\n"
     ]
    },
    {
     "name": "stderr",
     "output_type": "stream",
     "text": [
      "/home/tiagobarreto/.pyenv/versions/3.11.4/envs/cluster/lib/python3.11/site-packages/sklearn/cluster/_kmeans.py:1416: FutureWarning: The default value of `n_init` will change from 10 to 'auto' in 1.4. Set the value of `n_init` explicitly to suppress the warning\n",
      "  super()._check_params_vs_input(X, default_n_init=10)\n"
     ]
    },
    {
     "name": "stderr",
     "output_type": "stream",
     "text": [
      "/home/tiagobarreto/.pyenv/versions/3.11.4/envs/cluster/lib/python3.11/site-packages/sklearn/cluster/_kmeans.py:1416: FutureWarning: The default value of `n_init` will change from 10 to 'auto' in 1.4. Set the value of `n_init` explicitly to suppress the warning\n",
      "  super()._check_params_vs_input(X, default_n_init=10)\n"
     ]
    },
    {
     "name": "stderr",
     "output_type": "stream",
     "text": [
      "/home/tiagobarreto/.pyenv/versions/3.11.4/envs/cluster/lib/python3.11/site-packages/sklearn/cluster/_kmeans.py:1416: FutureWarning: The default value of `n_init` will change from 10 to 'auto' in 1.4. Set the value of `n_init` explicitly to suppress the warning\n",
      "  super()._check_params_vs_input(X, default_n_init=10)\n"
     ]
    },
    {
     "name": "stderr",
     "output_type": "stream",
     "text": [
      "/home/tiagobarreto/.pyenv/versions/3.11.4/envs/cluster/lib/python3.11/site-packages/sklearn/cluster/_kmeans.py:1416: FutureWarning: The default value of `n_init` will change from 10 to 'auto' in 1.4. Set the value of `n_init` explicitly to suppress the warning\n",
      "  super()._check_params_vs_input(X, default_n_init=10)\n"
     ]
    },
    {
     "name": "stderr",
     "output_type": "stream",
     "text": [
      "/home/tiagobarreto/.pyenv/versions/3.11.4/envs/cluster/lib/python3.11/site-packages/sklearn/cluster/_kmeans.py:1416: FutureWarning: The default value of `n_init` will change from 10 to 'auto' in 1.4. Set the value of `n_init` explicitly to suppress the warning\n",
      "  super()._check_params_vs_input(X, default_n_init=10)\n"
     ]
    },
    {
     "name": "stderr",
     "output_type": "stream",
     "text": [
      "/home/tiagobarreto/.pyenv/versions/3.11.4/envs/cluster/lib/python3.11/site-packages/sklearn/cluster/_kmeans.py:1416: FutureWarning: The default value of `n_init` will change from 10 to 'auto' in 1.4. Set the value of `n_init` explicitly to suppress the warning\n",
      "  super()._check_params_vs_input(X, default_n_init=10)\n"
     ]
    },
    {
     "name": "stderr",
     "output_type": "stream",
     "text": [
      "/home/tiagobarreto/.pyenv/versions/3.11.4/envs/cluster/lib/python3.11/site-packages/sklearn/cluster/_kmeans.py:1416: FutureWarning: The default value of `n_init` will change from 10 to 'auto' in 1.4. Set the value of `n_init` explicitly to suppress the warning\n",
      "  super()._check_params_vs_input(X, default_n_init=10)\n"
     ]
    },
    {
     "name": "stderr",
     "output_type": "stream",
     "text": [
      "/home/tiagobarreto/.pyenv/versions/3.11.4/envs/cluster/lib/python3.11/site-packages/sklearn/cluster/_kmeans.py:1416: FutureWarning: The default value of `n_init` will change from 10 to 'auto' in 1.4. Set the value of `n_init` explicitly to suppress the warning\n",
      "  super()._check_params_vs_input(X, default_n_init=10)\n"
     ]
    }
   ],
   "source": [
    "kmeans_list = []\n",
    "for k in clusters:\n",
    "    # model definition\n",
    "    kmeans_model = c.KMeans(n_clusters= k)\n",
    "\n",
    "    # model fit\n",
    "    kmeans_model.fit(X)\n",
    "\n",
    "    # model predict\n",
    "    labels = kmeans_model.predict(X)\n",
    "\n",
    "    # model performance\n",
    "    ss = mt.silhouette_score(X, labels)\n",
    "    kmeans_list.append(ss)"
   ]
  },
  {
   "cell_type": "code",
   "execution_count": 40,
   "id": "14a87fe3",
   "metadata": {
    "execution": {
     "iopub.execute_input": "2024-04-01T14:23:28.704855Z",
     "iopub.status.busy": "2024-04-01T14:23:28.704488Z",
     "iopub.status.idle": "2024-04-01T14:23:29.195482Z",
     "shell.execute_reply": "2024-04-01T14:23:29.194780Z"
    },
    "papermill": {
     "duration": 0.525601,
     "end_time": "2024-04-01T14:23:29.199461",
     "exception": false,
     "start_time": "2024-04-01T14:23:28.673860",
     "status": "completed"
    },
    "tags": []
   },
   "outputs": [
    {
     "data": {
      "text/plain": [
       "Text(0.5, 1.0, 'Silhouette x K - Kmeans')"
      ]
     },
     "execution_count": 40,
     "metadata": {},
     "output_type": "execute_result"
    },
    {
     "data": {
      "image/png": "[encoded data removed]",
      "text/plain": [
       "<Figure size 2000x500 with 1 Axes>"
      ]
     },
     "metadata": {},
     "output_type": "display_data"
    }
   ],
   "source": [
    "plt.figure(figsize=(20, 5))\n",
    "plt.plot(clusters, kmeans_list, linestyle= '--', marker = 'o')\n",
    "plt.xlabel('K Clusters')\n",
    "plt.ylabel('Silhouette Score')\n",
    "plt.title('Silhouette x K - Kmeans')"
   ]
  },
  {
   "cell_type": "markdown",
   "id": "f6af8cb4",
   "metadata": {
    "papermill": {
     "duration": 0.035446,
     "end_time": "2024-04-01T14:23:29.260035",
     "exception": false,
     "start_time": "2024-04-01T14:23:29.224589",
     "status": "completed"
    },
    "tags": []
   },
   "source": [
    "## 7.2 GMM"
   ]
  },
  {
   "cell_type": "code",
   "execution_count": 41,
   "id": "b5a7fc57",
   "metadata": {
    "execution": {
     "iopub.execute_input": "2024-04-01T14:23:29.337882Z",
     "iopub.status.busy": "2024-04-01T14:23:29.337545Z",
     "iopub.status.idle": "2024-04-01T14:23:34.193366Z",
     "shell.execute_reply": "2024-04-01T14:23:34.192734Z"
    },
    "papermill": {
     "duration": 4.898901,
     "end_time": "2024-04-01T14:23:34.195028",
     "exception": false,
     "start_time": "2024-04-01T14:23:29.296127",
     "status": "completed"
    },
    "tags": []
   },
   "outputs": [],
   "source": [
    "gmm_list = []\n",
    "for k in clusters:\n",
    "    # model definition\n",
    "    gmm_model = mx.GaussianMixture(n_components = k)\n",
    "\n",
    "    # model fit\n",
    "    gmm_model.fit(X)\n",
    "\n",
    "    # model predict\n",
    "    labels = gmm_model.predict(X)\n",
    "\n",
    "    # model performance\n",
    "    ss = mt.silhouette_score(X, labels)\n",
    "    gmm_list.append(ss)"
   ]
  },
  {
   "cell_type": "code",
   "execution_count": 42,
   "id": "64e6c1b4",
   "metadata": {
    "execution": {
     "iopub.execute_input": "2024-04-01T14:23:34.269376Z",
     "iopub.status.busy": "2024-04-01T14:23:34.269030Z",
     "iopub.status.idle": "2024-04-01T14:23:34.521265Z",
     "shell.execute_reply": "2024-04-01T14:23:34.520601Z"
    },
    "papermill": {
     "duration": 0.302572,
     "end_time": "2024-04-01T14:23:34.523104",
     "exception": false,
     "start_time": "2024-04-01T14:23:34.220532",
     "status": "completed"
    },
    "tags": []
   },
   "outputs": [
    {
     "data": {
      "text/plain": [
       "Text(0.5, 1.0, 'Silhouette x K - GMM')"
      ]
     },
     "execution_count": 42,
     "metadata": {},
     "output_type": "execute_result"
    },
    {
     "data": {
      "image/png": "[encoded data removed]",
      "text/plain": [
       "<Figure size 2000x500 with 1 Axes>"
      ]
     },
     "metadata": {},
     "output_type": "display_data"
    }
   ],
   "source": [
    "plt.figure(figsize=(20, 5))\n",
    "plt.plot(clusters, gmm_list, linestyle= '--', marker = 'o')\n",
    "plt.xlabel('K Clusters')\n",
    "plt.ylabel('Silhouette Score')\n",
    "plt.title('Silhouette x K - GMM')"
   ]
  },
  {
   "cell_type": "markdown",
   "id": "670a6020",
   "metadata": {
    "papermill": {
     "duration": 0.080376,
     "end_time": "2024-04-01T14:23:34.634654",
     "exception": false,
     "start_time": "2024-04-01T14:23:34.554278",
     "status": "completed"
    },
    "tags": []
   },
   "source": [
    "## 7.3 H-Clustering"
   ]
  },
  {
   "cell_type": "markdown",
   "id": "6006d394",
   "metadata": {
    "papermill": {
     "duration": 0.079386,
     "end_time": "2024-04-01T14:23:34.778014",
     "exception": false,
     "start_time": "2024-04-01T14:23:34.698628",
     "status": "completed"
    },
    "tags": []
   },
   "source": [
    "### 7.3.1 Dendrogram"
   ]
  },
  {
   "cell_type": "code",
   "execution_count": 43,
   "id": "37578d5b",
   "metadata": {
    "execution": {
     "iopub.execute_input": "2024-04-01T14:23:34.918210Z",
     "iopub.status.busy": "2024-04-01T14:23:34.917817Z",
     "iopub.status.idle": "2024-04-01T14:23:45.782200Z",
     "shell.execute_reply": "2024-04-01T14:23:45.780811Z"
    },
    "papermill": {
     "duration": 10.942585,
     "end_time": "2024-04-01T14:23:45.784381",
     "exception": false,
     "start_time": "2024-04-01T14:23:34.841796",
     "status": "completed"
    },
    "tags": []
   },
   "outputs": [],
   "source": [
    "hclustering_list = []\n",
    "for k in clusters:\n",
    "    # model definition and training\n",
    "    hc_model = hc.linkage(X, method='ward')\n",
    "\n",
    "    # model predict\n",
    "    labels = hc.fcluster(hc_model, k, criterion='maxclust')\n",
    "\n",
    "    # performance\n",
    "    ss = mt.silhouette_score(X, labels)\n",
    "    hclustering_list.append(ss)"
   ]
  },
  {
   "cell_type": "code",
   "execution_count": 44,
   "id": "e4684082",
   "metadata": {
    "execution": {
     "iopub.execute_input": "2024-04-01T14:23:45.870647Z",
     "iopub.status.busy": "2024-04-01T14:23:45.870308Z",
     "iopub.status.idle": "2024-04-01T14:23:46.450854Z",
     "shell.execute_reply": "2024-04-01T14:23:46.445242Z"
    },
    "papermill": {
     "duration": 0.638885,
     "end_time": "2024-04-01T14:23:46.454945",
     "exception": false,
     "start_time": "2024-04-01T14:23:45.816060",
     "status": "completed"
    },
    "tags": []
   },
   "outputs": [
    {
     "data": {
      "text/plain": [
       "Text(0.5, 1.0, 'Silhouette x K - HClustering')"
      ]
     },
     "execution_count": 44,
     "metadata": {},
     "output_type": "execute_result"
    },
    {
     "data": {
      "image/png": "[encoded data removed]",
      "text/plain": [
       "<Figure size 2000x500 with 1 Axes>"
      ]
     },
     "metadata": {},
     "output_type": "display_data"
    }
   ],
   "source": [
    "plt.figure(figsize=(20, 5))\n",
    "plt.plot(clusters, hclustering_list, linestyle= '--', marker = 'o')\n",
    "plt.xlabel('K Clusters')\n",
    "plt.ylabel('Silhouette Score')\n",
    "plt.title('Silhouette x K - HClustering')"
   ]
  },
  {
   "cell_type": "markdown",
   "id": "fa3b550d",
   "metadata": {
    "papermill": {
     "duration": 0.087765,
     "end_time": "2024-04-01T14:23:46.599731",
     "exception": false,
     "start_time": "2024-04-01T14:23:46.511966",
     "status": "completed"
    },
    "tags": []
   },
   "source": [
    "## 7.5 Results"
   ]
  },
  {
   "cell_type": "code",
   "execution_count": 45,
   "id": "93b7c728",
   "metadata": {
    "execution": {
     "iopub.execute_input": "2024-04-01T14:23:46.776771Z",
     "iopub.status.busy": "2024-04-01T14:23:46.776293Z",
     "iopub.status.idle": "2024-04-01T14:23:46.783087Z",
     "shell.execute_reply": "2024-04-01T14:23:46.781992Z"
    },
    "papermill": {
     "duration": 0.109884,
     "end_time": "2024-04-01T14:23:46.785262",
     "exception": false,
     "start_time": "2024-04-01T14:23:46.675378",
     "status": "completed"
    },
    "tags": []
   },
   "outputs": [],
   "source": [
    "df_results = pd.DataFrame(\n",
    "    {'Kmeans': kmeans_list,\n",
    "    'GMM': gmm_list,\n",
    "    'HClustering': hclustering_list\n",
    "    }\n",
    ").T\n",
    "df_results.columns = clusters"
   ]
  },
  {
   "cell_type": "code",
   "execution_count": 46,
   "id": "579bf1f1",
   "metadata": {
    "execution": {
     "iopub.execute_input": "2024-04-01T14:23:46.921442Z",
     "iopub.status.busy": "2024-04-01T14:23:46.921076Z",
     "iopub.status.idle": "2024-04-01T14:23:47.025135Z",
     "shell.execute_reply": "2024-04-01T14:23:47.023112Z"
    },
    "papermill": {
     "duration": 0.187588,
     "end_time": "2024-04-01T14:23:47.027354",
     "exception": false,
     "start_time": "2024-04-01T14:23:46.839766",
     "status": "completed"
    },
    "tags": []
   },
   "outputs": [
    {
     "data": {
      "text/html": [
       "<style type=\"text/css\">\n",
       "#T_fd21c_row0_col12, #T_fd21c_row1_col12, #T_fd21c_row2_col12 {\n",
       "  background-color: blue;\n",
       "}\n",
       "</style>\n",
       "<table id=\"T_fd21c\">\n",
       "  <thead>\n",
       "    <tr>\n",
       "      <th class=\"blank level0\" >&nbsp;</th>\n",
       "      <th id=\"T_fd21c_level0_col0\" class=\"col_heading level0 col0\" >2</th>\n",
       "      <th id=\"T_fd21c_level0_col1\" class=\"col_heading level0 col1\" >3</th>\n",
       "      <th id=\"T_fd21c_level0_col2\" class=\"col_heading level0 col2\" >4</th>\n",
       "      <th id=\"T_fd21c_level0_col3\" class=\"col_heading level0 col3\" >5</th>\n",
       "      <th id=\"T_fd21c_level0_col4\" class=\"col_heading level0 col4\" >6</th>\n",
       "      <th id=\"T_fd21c_level0_col5\" class=\"col_heading level0 col5\" >7</th>\n",
       "      <th id=\"T_fd21c_level0_col6\" class=\"col_heading level0 col6\" >8</th>\n",
       "      <th id=\"T_fd21c_level0_col7\" class=\"col_heading level0 col7\" >9</th>\n",
       "      <th id=\"T_fd21c_level0_col8\" class=\"col_heading level0 col8\" >10</th>\n",
       "      <th id=\"T_fd21c_level0_col9\" class=\"col_heading level0 col9\" >11</th>\n",
       "      <th id=\"T_fd21c_level0_col10\" class=\"col_heading level0 col10\" >12</th>\n",
       "      <th id=\"T_fd21c_level0_col11\" class=\"col_heading level0 col11\" >13</th>\n",
       "      <th id=\"T_fd21c_level0_col12\" class=\"col_heading level0 col12\" >14</th>\n",
       "      <th id=\"T_fd21c_level0_col13\" class=\"col_heading level0 col13\" >15</th>\n",
       "      <th id=\"T_fd21c_level0_col14\" class=\"col_heading level0 col14\" >16</th>\n",
       "      <th id=\"T_fd21c_level0_col15\" class=\"col_heading level0 col15\" >17</th>\n",
       "      <th id=\"T_fd21c_level0_col16\" class=\"col_heading level0 col16\" >18</th>\n",
       "      <th id=\"T_fd21c_level0_col17\" class=\"col_heading level0 col17\" >19</th>\n",
       "      <th id=\"T_fd21c_level0_col18\" class=\"col_heading level0 col18\" >20</th>\n",
       "      <th id=\"T_fd21c_level0_col19\" class=\"col_heading level0 col19\" >21</th>\n",
       "      <th id=\"T_fd21c_level0_col20\" class=\"col_heading level0 col20\" >22</th>\n",
       "      <th id=\"T_fd21c_level0_col21\" class=\"col_heading level0 col21\" >23</th>\n",
       "      <th id=\"T_fd21c_level0_col22\" class=\"col_heading level0 col22\" >24</th>\n",
       "      <th id=\"T_fd21c_level0_col23\" class=\"col_heading level0 col23\" >25</th>\n",
       "    </tr>\n",
       "  </thead>\n",
       "  <tbody>\n",
       "    <tr>\n",
       "      <th id=\"T_fd21c_level0_row0\" class=\"row_heading level0 row0\" >Kmeans</th>\n",
       "      <td id=\"T_fd21c_row0_col0\" class=\"data row0 col0\" >0.259112</td>\n",
       "      <td id=\"T_fd21c_row0_col1\" class=\"data row0 col1\" >0.376584</td>\n",
       "      <td id=\"T_fd21c_row0_col2\" class=\"data row0 col2\" >0.440322</td>\n",
       "      <td id=\"T_fd21c_row0_col3\" class=\"data row0 col3\" >0.477872</td>\n",
       "      <td id=\"T_fd21c_row0_col4\" class=\"data row0 col4\" >0.540784</td>\n",
       "      <td id=\"T_fd21c_row0_col5\" class=\"data row0 col5\" >0.609471</td>\n",
       "      <td id=\"T_fd21c_row0_col6\" class=\"data row0 col6\" >0.662289</td>\n",
       "      <td id=\"T_fd21c_row0_col7\" class=\"data row0 col7\" >0.707065</td>\n",
       "      <td id=\"T_fd21c_row0_col8\" class=\"data row0 col8\" >0.745888</td>\n",
       "      <td id=\"T_fd21c_row0_col9\" class=\"data row0 col9\" >0.766883</td>\n",
       "      <td id=\"T_fd21c_row0_col10\" class=\"data row0 col10\" >0.783167</td>\n",
       "      <td id=\"T_fd21c_row0_col11\" class=\"data row0 col11\" >0.775340</td>\n",
       "      <td id=\"T_fd21c_row0_col12\" class=\"data row0 col12\" >0.783372</td>\n",
       "      <td id=\"T_fd21c_row0_col13\" class=\"data row0 col13\" >0.776581</td>\n",
       "      <td id=\"T_fd21c_row0_col14\" class=\"data row0 col14\" >0.760710</td>\n",
       "      <td id=\"T_fd21c_row0_col15\" class=\"data row0 col15\" >0.755931</td>\n",
       "      <td id=\"T_fd21c_row0_col16\" class=\"data row0 col16\" >0.717381</td>\n",
       "      <td id=\"T_fd21c_row0_col17\" class=\"data row0 col17\" >0.722126</td>\n",
       "      <td id=\"T_fd21c_row0_col18\" class=\"data row0 col18\" >0.711142</td>\n",
       "      <td id=\"T_fd21c_row0_col19\" class=\"data row0 col19\" >0.708875</td>\n",
       "      <td id=\"T_fd21c_row0_col20\" class=\"data row0 col20\" >0.736473</td>\n",
       "      <td id=\"T_fd21c_row0_col21\" class=\"data row0 col21\" >0.715501</td>\n",
       "      <td id=\"T_fd21c_row0_col22\" class=\"data row0 col22\" >0.733366</td>\n",
       "      <td id=\"T_fd21c_row0_col23\" class=\"data row0 col23\" >0.739014</td>\n",
       "    </tr>\n",
       "    <tr>\n",
       "      <th id=\"T_fd21c_level0_row1\" class=\"row_heading level0 row1\" >GMM</th>\n",
       "      <td id=\"T_fd21c_row1_col0\" class=\"data row1 col0\" >0.268360</td>\n",
       "      <td id=\"T_fd21c_row1_col1\" class=\"data row1 col1\" >0.376584</td>\n",
       "      <td id=\"T_fd21c_row1_col2\" class=\"data row1 col2\" >0.409663</td>\n",
       "      <td id=\"T_fd21c_row1_col3\" class=\"data row1 col3\" >0.477872</td>\n",
       "      <td id=\"T_fd21c_row1_col4\" class=\"data row1 col4\" >0.538239</td>\n",
       "      <td id=\"T_fd21c_row1_col5\" class=\"data row1 col5\" >0.609471</td>\n",
       "      <td id=\"T_fd21c_row1_col6\" class=\"data row1 col6\" >0.633851</td>\n",
       "      <td id=\"T_fd21c_row1_col7\" class=\"data row1 col7\" >0.702295</td>\n",
       "      <td id=\"T_fd21c_row1_col8\" class=\"data row1 col8\" >0.745888</td>\n",
       "      <td id=\"T_fd21c_row1_col9\" class=\"data row1 col9\" >0.762171</td>\n",
       "      <td id=\"T_fd21c_row1_col10\" class=\"data row1 col10\" >0.783167</td>\n",
       "      <td id=\"T_fd21c_row1_col11\" class=\"data row1 col11\" >0.775340</td>\n",
       "      <td id=\"T_fd21c_row1_col12\" class=\"data row1 col12\" >0.783372</td>\n",
       "      <td id=\"T_fd21c_row1_col13\" class=\"data row1 col13\" >0.776581</td>\n",
       "      <td id=\"T_fd21c_row1_col14\" class=\"data row1 col14\" >0.749676</td>\n",
       "      <td id=\"T_fd21c_row1_col15\" class=\"data row1 col15\" >0.759955</td>\n",
       "      <td id=\"T_fd21c_row1_col16\" class=\"data row1 col16\" >0.719929</td>\n",
       "      <td id=\"T_fd21c_row1_col17\" class=\"data row1 col17\" >0.719214</td>\n",
       "      <td id=\"T_fd21c_row1_col18\" class=\"data row1 col18\" >0.732924</td>\n",
       "      <td id=\"T_fd21c_row1_col19\" class=\"data row1 col19\" >0.750751</td>\n",
       "      <td id=\"T_fd21c_row1_col20\" class=\"data row1 col20\" >0.736105</td>\n",
       "      <td id=\"T_fd21c_row1_col21\" class=\"data row1 col21\" >0.729214</td>\n",
       "      <td id=\"T_fd21c_row1_col22\" class=\"data row1 col22\" >0.720381</td>\n",
       "      <td id=\"T_fd21c_row1_col23\" class=\"data row1 col23\" >0.745843</td>\n",
       "    </tr>\n",
       "    <tr>\n",
       "      <th id=\"T_fd21c_level0_row2\" class=\"row_heading level0 row2\" >HClustering</th>\n",
       "      <td id=\"T_fd21c_row2_col0\" class=\"data row2 col0\" >0.259112</td>\n",
       "      <td id=\"T_fd21c_row2_col1\" class=\"data row2 col1\" >0.376584</td>\n",
       "      <td id=\"T_fd21c_row2_col2\" class=\"data row2 col2\" >0.440322</td>\n",
       "      <td id=\"T_fd21c_row2_col3\" class=\"data row2 col3\" >0.483105</td>\n",
       "      <td id=\"T_fd21c_row2_col4\" class=\"data row2 col4\" >0.545353</td>\n",
       "      <td id=\"T_fd21c_row2_col5\" class=\"data row2 col5\" >0.613676</td>\n",
       "      <td id=\"T_fd21c_row2_col6\" class=\"data row2 col6\" >0.662289</td>\n",
       "      <td id=\"T_fd21c_row2_col7\" class=\"data row2 col7\" >0.707065</td>\n",
       "      <td id=\"T_fd21c_row2_col8\" class=\"data row2 col8\" >0.745888</td>\n",
       "      <td id=\"T_fd21c_row2_col9\" class=\"data row2 col9\" >0.766883</td>\n",
       "      <td id=\"T_fd21c_row2_col10\" class=\"data row2 col10\" >0.783167</td>\n",
       "      <td id=\"T_fd21c_row2_col11\" class=\"data row2 col11\" >0.775340</td>\n",
       "      <td id=\"T_fd21c_row2_col12\" class=\"data row2 col12\" >0.783372</td>\n",
       "      <td id=\"T_fd21c_row2_col13\" class=\"data row2 col13\" >0.776581</td>\n",
       "      <td id=\"T_fd21c_row2_col14\" class=\"data row2 col14\" >0.760796</td>\n",
       "      <td id=\"T_fd21c_row2_col15\" class=\"data row2 col15\" >0.762720</td>\n",
       "      <td id=\"T_fd21c_row2_col16\" class=\"data row2 col16\" >0.735815</td>\n",
       "      <td id=\"T_fd21c_row2_col17\" class=\"data row2 col17\" >0.739156</td>\n",
       "      <td id=\"T_fd21c_row2_col18\" class=\"data row2 col18\" >0.734802</td>\n",
       "      <td id=\"T_fd21c_row2_col19\" class=\"data row2 col19\" >0.747543</td>\n",
       "      <td id=\"T_fd21c_row2_col20\" class=\"data row2 col20\" >0.745275</td>\n",
       "      <td id=\"T_fd21c_row2_col21\" class=\"data row2 col21\" >0.750820</td>\n",
       "      <td id=\"T_fd21c_row2_col22\" class=\"data row2 col22\" >0.740046</td>\n",
       "      <td id=\"T_fd21c_row2_col23\" class=\"data row2 col23\" >0.750553</td>\n",
       "    </tr>\n",
       "  </tbody>\n",
       "</table>\n"
      ],
      "text/plain": [
       "<pandas.io.formats.style.Styler at 0x7fb7640a2190>"
      ]
     },
     "execution_count": 46,
     "metadata": {},
     "output_type": "execute_result"
    }
   ],
   "source": [
    "df_results.style.highlight_max(color = 'blue', axis = 1)"
   ]
  },
  {
   "cell_type": "markdown",
   "id": "5dc38e02",
   "metadata": {
    "papermill": {
     "duration": 0.121921,
     "end_time": "2024-04-01T14:23:47.183447",
     "exception": false,
     "start_time": "2024-04-01T14:23:47.061526",
     "status": "completed"
    },
    "tags": []
   },
   "source": [
    "# 8.0 Model Training"
   ]
  },
  {
   "cell_type": "markdown",
   "id": "4045d423",
   "metadata": {
    "papermill": {
     "duration": 0.079209,
     "end_time": "2024-04-01T14:23:47.364249",
     "exception": false,
     "start_time": "2024-04-01T14:23:47.285040",
     "status": "completed"
    },
    "tags": []
   },
   "source": [
    "## 8.1 K-Means"
   ]
  },
  {
   "cell_type": "code",
   "execution_count": 47,
   "id": "ca40c5be",
   "metadata": {
    "execution": {
     "iopub.execute_input": "2024-04-01T14:23:47.493924Z",
     "iopub.status.busy": "2024-04-01T14:23:47.493253Z",
     "iopub.status.idle": "2024-04-01T14:23:47.885855Z",
     "shell.execute_reply": "2024-04-01T14:23:47.880916Z"
    },
    "papermill": {
     "duration": 0.468163,
     "end_time": "2024-04-01T14:23:47.890094",
     "exception": false,
     "start_time": "2024-04-01T14:23:47.421931",
     "status": "completed"
    },
    "tags": []
   },
   "outputs": [],
   "source": [
    "# model definition\n",
    "k = 10\n",
    "\n",
    "hc_model = hc.linkage(X, method='ward')\n",
    "\n",
    "    # model predict\n",
    "labels = hc.fcluster(hc_model, k, criterion='maxclust')\n",
    "\n"
   ]
  },
  {
   "cell_type": "markdown",
   "id": "e4289e80",
   "metadata": {
    "papermill": {
     "duration": 0.127555,
     "end_time": "2024-04-01T14:23:48.053275",
     "exception": false,
     "start_time": "2024-04-01T14:23:47.925720",
     "status": "completed"
    },
    "tags": []
   },
   "source": [
    "# 9.0 Cluster Analysis"
   ]
  },
  {
   "cell_type": "code",
   "execution_count": 48,
   "id": "8f727afb",
   "metadata": {
    "execution": {
     "iopub.execute_input": "2024-04-01T14:23:48.204588Z",
     "iopub.status.busy": "2024-04-01T14:23:48.204303Z",
     "iopub.status.idle": "2024-04-01T14:23:48.208653Z",
     "shell.execute_reply": "2024-04-01T14:23:48.207986Z"
    },
    "papermill": {
     "duration": 0.096934,
     "end_time": "2024-04-01T14:23:48.210576",
     "exception": false,
     "start_time": "2024-04-01T14:23:48.113642",
     "status": "completed"
    },
    "tags": []
   },
   "outputs": [],
   "source": [
    "cols_selected = ['customer_id','gross_revenue', 'recency_days', \n",
    " 'items_purchased',\n",
    " 'avg_ticket',\n",
    " 'number_returns', 'purchases'\n",
    "]"
   ]
  },
  {
   "cell_type": "code",
   "execution_count": 49,
   "id": "79b3245e",
   "metadata": {
    "execution": {
     "iopub.execute_input": "2024-04-01T14:23:48.333998Z",
     "iopub.status.busy": "2024-04-01T14:23:48.333665Z",
     "iopub.status.idle": "2024-04-01T14:23:48.342615Z",
     "shell.execute_reply": "2024-04-01T14:23:48.341984Z"
    },
    "papermill": {
     "duration": 0.075091,
     "end_time": "2024-04-01T14:23:48.344278",
     "exception": false,
     "start_time": "2024-04-01T14:23:48.269187",
     "status": "completed"
    },
    "tags": []
   },
   "outputs": [],
   "source": [
    "df9 = df4[cols_selected].copy()\n",
    "df9['cluster'] = labels\n",
    "df9['items_purchased'] = df9['items_purchased'].astype(int)\n",
    "df9['recency_days'] = df9['recency_days'].astype(int)\n",
    "df9['number_returns'] = df9['number_returns'].astype(int)"
   ]
  },
  {
   "cell_type": "markdown",
   "id": "6c2b21c1",
   "metadata": {
    "papermill": {
     "duration": 0.059773,
     "end_time": "2024-04-01T14:23:48.451611",
     "exception": false,
     "start_time": "2024-04-01T14:23:48.391838",
     "status": "completed"
    },
    "tags": []
   },
   "source": [
    "## 9.2 Cluster Profile"
   ]
  },
  {
   "cell_type": "code",
   "execution_count": 50,
   "id": "eb517265",
   "metadata": {
    "execution": {
     "iopub.execute_input": "2024-04-01T14:23:48.588656Z",
     "iopub.status.busy": "2024-04-01T14:23:48.588292Z",
     "iopub.status.idle": "2024-04-01T14:23:48.631283Z",
     "shell.execute_reply": "2024-04-01T14:23:48.630628Z"
    },
    "papermill": {
     "duration": 0.122495,
     "end_time": "2024-04-01T14:23:48.633260",
     "exception": false,
     "start_time": "2024-04-01T14:23:48.510765",
     "status": "completed"
    },
    "tags": []
   },
   "outputs": [
    {
     "data": {
      "text/html": [
       "<div>\n",
       "<style scoped>\n",
       "    .dataframe tbody tr th:only-of-type {\n",
       "        vertical-align: middle;\n",
       "    }\n",
       "\n",
       "    .dataframe tbody tr th {\n",
       "        vertical-align: top;\n",
       "    }\n",
       "\n",
       "    .dataframe thead th {\n",
       "        text-align: right;\n",
       "    }\n",
       "</style>\n",
       "<table border=\"1\" class=\"dataframe\">\n",
       "  <thead>\n",
       "    <tr style=\"text-align: right;\">\n",
       "      <th></th>\n",
       "      <th>cluster</th>\n",
       "      <th>customer_id</th>\n",
       "      <th>perc_customer</th>\n",
       "      <th>gross_revenue</th>\n",
       "      <th>recency_days</th>\n",
       "      <th>items_purchased</th>\n",
       "      <th>number_returns</th>\n",
       "      <th>avg_ticket</th>\n",
       "    </tr>\n",
       "  </thead>\n",
       "  <tbody>\n",
       "    <tr>\n",
       "      <th>0</th>\n",
       "      <td>10</td>\n",
       "      <td>291</td>\n",
       "      <td>9.81</td>\n",
       "      <td>14985.14</td>\n",
       "      <td>21.13</td>\n",
       "      <td>9055.00</td>\n",
       "      <td>4.09</td>\n",
       "      <td>775.09</td>\n",
       "    </tr>\n",
       "    <tr>\n",
       "      <th>1</th>\n",
       "      <td>9</td>\n",
       "      <td>175</td>\n",
       "      <td>5.90</td>\n",
       "      <td>3901.97</td>\n",
       "      <td>27.13</td>\n",
       "      <td>2325.30</td>\n",
       "      <td>1.69</td>\n",
       "      <td>419.70</td>\n",
       "    </tr>\n",
       "    <tr>\n",
       "      <th>2</th>\n",
       "      <td>8</td>\n",
       "      <td>365</td>\n",
       "      <td>12.30</td>\n",
       "      <td>2592.67</td>\n",
       "      <td>40.54</td>\n",
       "      <td>1588.74</td>\n",
       "      <td>1.31</td>\n",
       "      <td>383.90</td>\n",
       "    </tr>\n",
       "    <tr>\n",
       "      <th>3</th>\n",
       "      <td>5</td>\n",
       "      <td>331</td>\n",
       "      <td>11.16</td>\n",
       "      <td>1799.58</td>\n",
       "      <td>44.69</td>\n",
       "      <td>1057.24</td>\n",
       "      <td>0.98</td>\n",
       "      <td>343.52</td>\n",
       "    </tr>\n",
       "    <tr>\n",
       "      <th>4</th>\n",
       "      <td>6</td>\n",
       "      <td>242</td>\n",
       "      <td>8.16</td>\n",
       "      <td>1409.87</td>\n",
       "      <td>49.10</td>\n",
       "      <td>790.42</td>\n",
       "      <td>0.76</td>\n",
       "      <td>310.74</td>\n",
       "    </tr>\n",
       "    <tr>\n",
       "      <th>5</th>\n",
       "      <td>7</td>\n",
       "      <td>326</td>\n",
       "      <td>10.99</td>\n",
       "      <td>1070.53</td>\n",
       "      <td>61.33</td>\n",
       "      <td>589.20</td>\n",
       "      <td>0.78</td>\n",
       "      <td>284.66</td>\n",
       "    </tr>\n",
       "    <tr>\n",
       "      <th>6</th>\n",
       "      <td>1</td>\n",
       "      <td>252</td>\n",
       "      <td>8.49</td>\n",
       "      <td>842.95</td>\n",
       "      <td>70.87</td>\n",
       "      <td>441.69</td>\n",
       "      <td>0.57</td>\n",
       "      <td>259.37</td>\n",
       "    </tr>\n",
       "    <tr>\n",
       "      <th>7</th>\n",
       "      <td>2</td>\n",
       "      <td>512</td>\n",
       "      <td>17.26</td>\n",
       "      <td>592.36</td>\n",
       "      <td>86.88</td>\n",
       "      <td>293.97</td>\n",
       "      <td>0.49</td>\n",
       "      <td>220.57</td>\n",
       "    </tr>\n",
       "    <tr>\n",
       "      <th>8</th>\n",
       "      <td>4</td>\n",
       "      <td>237</td>\n",
       "      <td>7.99</td>\n",
       "      <td>431.12</td>\n",
       "      <td>132.49</td>\n",
       "      <td>144.71</td>\n",
       "      <td>0.62</td>\n",
       "      <td>231.69</td>\n",
       "    </tr>\n",
       "    <tr>\n",
       "      <th>9</th>\n",
       "      <td>3</td>\n",
       "      <td>236</td>\n",
       "      <td>7.95</td>\n",
       "      <td>237.94</td>\n",
       "      <td>103.94</td>\n",
       "      <td>111.90</td>\n",
       "      <td>0.31</td>\n",
       "      <td>97.49</td>\n",
       "    </tr>\n",
       "  </tbody>\n",
       "</table>\n",
       "</div>"
      ],
      "text/plain": [
       "   cluster  customer_id  perc_customer  gross_revenue  recency_days  \\\n",
       "0       10          291           9.81       14985.14         21.13   \n",
       "1        9          175           5.90        3901.97         27.13   \n",
       "2        8          365          12.30        2592.67         40.54   \n",
       "3        5          331          11.16        1799.58         44.69   \n",
       "4        6          242           8.16        1409.87         49.10   \n",
       "5        7          326          10.99        1070.53         61.33   \n",
       "6        1          252           8.49         842.95         70.87   \n",
       "7        2          512          17.26         592.36         86.88   \n",
       "8        4          237           7.99         431.12        132.49   \n",
       "9        3          236           7.95         237.94        103.94   \n",
       "\n",
       "   items_purchased  number_returns  avg_ticket  \n",
       "0          9055.00            4.09      775.09  \n",
       "1          2325.30            1.69      419.70  \n",
       "2          1588.74            1.31      383.90  \n",
       "3          1057.24            0.98      343.52  \n",
       "4           790.42            0.76      310.74  \n",
       "5           589.20            0.78      284.66  \n",
       "6           441.69            0.57      259.37  \n",
       "7           293.97            0.49      220.57  \n",
       "8           144.71            0.62      231.69  \n",
       "9           111.90            0.31       97.49  "
      ]
     },
     "execution_count": 50,
     "metadata": {},
     "output_type": "execute_result"
    }
   ],
   "source": [
    "# Number of customers\n",
    "df_cluster = df9[['customer_id','cluster']].groupby('cluster').count().reset_index()\n",
    "df_cluster['perc_customer'] = 100* (df_cluster['customer_id'] / df_cluster['customer_id'].sum() )\n",
    "\n",
    "# Avg gross_revenue\n",
    "df_gross = df9[['gross_revenue','cluster']].groupby('cluster').mean().reset_index()\n",
    "df_cluster = pd.merge(df_cluster, df_gross, on='cluster', how='left')\n",
    "\n",
    "\n",
    "# Avg recency_days\n",
    "df_recency_days = df9[['recency_days','cluster']].groupby('cluster').mean().reset_index()\n",
    "df_cluster = pd.merge(df_cluster, df_recency_days, on='cluster', how='left')\n",
    "\n",
    "# Avg purchases\n",
    "df_purchases = df9[['purchases','cluster']].groupby('cluster').mean().reset_index()\n",
    "df_cluster = pd.merge(df_cluster, df_purchases, on='cluster', how='left')\n",
    "\n",
    "# Avg items_purchased\n",
    "df_items_purchased = df9[['items_purchased','cluster']].groupby('cluster').mean().reset_index()\n",
    "df_cluster = pd.merge(df_cluster, df_items_purchased, on='cluster', how='left')\n",
    "\n",
    "# Avg number_returns\n",
    "df_number_returns = df9[['number_returns','cluster']].groupby('cluster').mean().reset_index()\n",
    "df_cluster = pd.merge(df_cluster, df_number_returns, on='cluster', how='left')\n",
    "\n",
    "\n",
    "\n",
    "df_cluster['avg_ticket'] = df_cluster.apply(lambda x: x['gross_revenue'] / x['purchases'], axis = 1)\n",
    "df_cluster = df_cluster.drop('purchases', axis = 1)\n",
    "df_cluster = np.round(df_cluster, 2)\n",
    "df_cluster = df_cluster.sort_values('gross_revenue', ascending = False).reset_index(drop = True)\n",
    "df_cluster\n"
   ]
  },
  {
   "cell_type": "markdown",
   "id": "13d984cc",
   "metadata": {
    "papermill": {
     "duration": 0.115044,
     "end_time": "2024-04-01T14:23:48.780073",
     "exception": false,
     "start_time": "2024-04-01T14:23:48.665029",
     "status": "completed"
    },
    "tags": []
   },
   "source": [
    "- Cluster 6: Elite Insider\n",
    "- Cluster 8: Elite Consumers\n",
    "- Cluster 9: Peak Buyers\n",
    "- Cluster 7: Significant Acquires\n",
    "- Cluster 3 Occasional Consumers\n",
    "- Cluster 4: Intermittent Shoppers\n",
    "- Cluster 1: Sporadic Spenders\n",
    "- Cluster 2: Rare Customers\n",
    "- Cluster 5: Marginal Buyers"
   ]
  },
  {
   "cell_type": "markdown",
   "id": "8e411abe",
   "metadata": {
    "papermill": {
     "duration": 0.084824,
     "end_time": "2024-04-01T14:23:48.986307",
     "exception": false,
     "start_time": "2024-04-01T14:23:48.901483",
     "status": "completed"
    },
    "tags": []
   },
   "source": [
    "# 10.0 Deploy To Production"
   ]
  },
  {
   "cell_type": "code",
   "execution_count": 51,
   "id": "93433617",
   "metadata": {
    "execution": {
     "iopub.execute_input": "2024-04-01T14:23:49.099956Z",
     "iopub.status.busy": "2024-04-01T14:23:49.099551Z",
     "iopub.status.idle": "2024-04-01T14:23:49.105470Z",
     "shell.execute_reply": "2024-04-01T14:23:49.104420Z"
    },
    "papermill": {
     "duration": 0.058811,
     "end_time": "2024-04-01T14:23:49.107579",
     "exception": false,
     "start_time": "2024-04-01T14:23:49.048768",
     "status": "completed"
    },
    "tags": []
   },
   "outputs": [],
   "source": [
    "df10 = df9.drop(columns='purchases').copy()"
   ]
  },
  {
   "cell_type": "markdown",
   "id": "c7d4e588",
   "metadata": {
    "papermill": {
     "duration": 0.051863,
     "end_time": "2024-04-01T14:23:49.195163",
     "exception": false,
     "start_time": "2024-04-01T14:23:49.143300",
     "status": "completed"
    },
    "tags": []
   },
   "source": [
    "## 10.1 Insert into SQLITe"
   ]
  },
  {
   "cell_type": "code",
   "execution_count": 52,
   "id": "3165ba90",
   "metadata": {
    "execution": {
     "iopub.execute_input": "2024-04-01T14:23:49.281730Z",
     "iopub.status.busy": "2024-04-01T14:23:49.281091Z",
     "iopub.status.idle": "2024-04-01T14:23:49.453695Z",
     "shell.execute_reply": "2024-04-01T14:23:49.452251Z"
    },
    "papermill": {
     "duration": 0.226033,
     "end_time": "2024-04-01T14:23:49.467608",
     "exception": false,
     "start_time": "2024-04-01T14:23:49.241575",
     "status": "completed"
    },
    "tags": []
   },
   "outputs": [
    {
     "data": {
      "text/plain": [
       "2967"
      ]
     },
     "execution_count": 52,
     "metadata": {},
     "output_type": "execute_result"
    }
   ],
   "source": [
    "# database connection\n",
    "conn = create_engine('sqlite:///insiders.sqlite')\n",
    "# create table\n",
    "# query_create_table_insiders = \"\"\" \n",
    "#     CREATE TABLE insiders(\n",
    "#         customer_id      INTEGER,\n",
    "#         gross_revenue    REAL,\n",
    "#         recency_days     INTEGER,\n",
    "#         items_purchased  INTEGER,\n",
    "#         avg_ticket       REAL,\n",
    "#         number_returns   INTEGER,\n",
    "#         cluster          INTEGER\n",
    "#     )\n",
    "# \"\"\"\n",
    "\n",
    "# conn.execute(query_create_table_insiders)\n",
    "# conn.commit()\n",
    "# conn.close()\n",
    "\n",
    "# insert data\n",
    "df10.to_sql('insiders', con = conn, if_exists= 'append', index = False)\n",
    "\n",
    "# select data\n",
    "# query = \"\"\"\n",
    "#     SELECT * FROM insiders\n",
    "# \"\"\"\n",
    "# df = pd.read_sql_query(query, conn)"
   ]
  }
 ],
 "metadata": {
  "kernelspec": {
   "display_name": "cluster",
   "language": "python",
   "name": "python3"
  },
  "language_info": {
   "codemirror_mode": {
    "name": "ipython",
    "version": 3
   },
   "file_extension": ".py",
   "mimetype": "text/x-python",
   "name": "python",
   "nbconvert_exporter": "python",
   "pygments_lexer": "ipython3",
   "version": "3.11.4"
  },
  "papermill": {
   "default_parameters": {},
   "duration": 76.394039,
   "end_time": "2024-04-01T14:23:50.560826",
   "environment_variables": {},
   "exception": null,
   "input_path": "/home/tiagobarreto/DS/repos/clusterização/pa005_clustering/src/models/ciclo10-deploy.ipynb",
   "output_path": "/home/tiagobarreto/DS/repos/clusterização/pa005_clustering/reports/ciclo10-deploy_2024-04-01T11:22:33.ipynb",
   "parameters": {},
   "start_time": "2024-04-01T14:22:34.166787",
   "version": "2.5.0"
  }
 },
 "nbformat": 4,
 "nbformat_minor": 5
}