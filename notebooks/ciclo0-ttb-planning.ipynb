{
 "cells": [
  {
   "cell_type": "markdown",
   "metadata": {},
   "source": [
    "# PA005 - High Value Customers Identification (Insiders)"
   ]
  },
  {
   "cell_type": "markdown",
   "metadata": {},
   "source": [
    "## 0.0 Planejamento da Solução (IOT)"
   ]
  },
  {
   "cell_type": "markdown",
   "metadata": {},
   "source": [
    "### Input - Entrada\n",
    "\n",
    "1. Problema de negócio\n",
    "- Selecionar os clientes mais valiosos para integrar um programa de fidelização.\n",
    "2. Conjunto de Dados\n",
    "- Vendas de um e-commerce, durante um certo período."
   ]
  },
  {
   "cell_type": "markdown",
   "metadata": {},
   "source": [
    "### Output  - Saída\n",
    "1. A indicação das pessoas que farão parte do programa de Insiders.\n",
    "- Lista: client_id| is_insider |\n",
    "\n",
    "2. Relatório com as respostas das perguntas de negócio.\n",
    "- Quem são as pessoas elegíveis para participar do programa de Insiders?\n",
    "- Quantos clientes farão parte do grupo?\n",
    "- Quais as principais características desses clientes?\n",
    "- Qual a % de contribuição do faturamento, vinda do Insiders?\n",
    "- Qual a expectativa de faturamento desse grupo para os próximos meses?\n",
    "- Quais as condições para uma pessoa ser elegível ao Insiders?\n",
    "- Quais as condições para uma pessoa ser removida do Insiders?\n",
    "- Qual a garantia que o programa Insiders é melhor que o restante da base?\n",
    "- Quais ações o time de marketing pode realizar para aumentar o faturamento?"
   ]
  },
  {
   "cell_type": "markdown",
   "metadata": {},
   "source": [
    "### Tasks - Tarefas\n",
    "\n",
    "\n",
    "1. Quem são as pessoas elegíveis para participar do programa de Insiders?\n",
    "    - O que é ser elegível? O que são clientes de alto \"valor\"?\n",
    "    - Faturamento:\n",
    "        - Alto ticket médio.\n",
    "        - Alto LTV.\n",
    "        - Baixa Recência.\n",
    "        - Alto basket size.\n",
    "        - Baixa probabilidade de Churn.\n",
    "        - Alta Previsão LTV.\n",
    "        - Alta propensão de compra.\n",
    "\n",
    "    - Custo:\n",
    "        - Baixa taxa de devolução.\n",
    "    \n",
    "    - Experiência de compra:\n",
    "        - Média alta das avaliações.\n",
    "\n",
    "2. Quantos clientes farão parte do grupo?\n",
    "    - Número total de clientes.\n",
    "    - % do grupo Insiders.\n",
    "\n",
    "3. Quais as principais características desses clientes?\n",
    "    - Escrever características dos clientes:\n",
    "        - Idade\n",
    "        - Salário\n",
    "        - Localização\n",
    "    \n",
    "    - Escrever características de consumo:\n",
    "        - Atributos de clusterização\n",
    "\n",
    "4. Qual a % de contribuição do faturamento, vinda do Insiders?\n",
    "    - Faturamento total do ano.\n",
    "    - Faturamento do grupo Insiders.\n",
    "\n",
    "5. Qual a expectativa de faturamento desse grupo para os próximos meses?\n",
    "    - Previsão do LTV do grupo Insiders.\n",
    "    - Análise de Cohort.\n",
    "\n",
    "6. Quais as condições para uma pessoa ser elegível ao Insiders?\n",
    "    - Definir a periodicidade ( 1 mês, 3 meses)\n",
    "    - A pessoa precisa ser similar ou parecido com uma pessoa do grupo.\n",
    "7. Quais as condições para uma pessoa ser removida do Insiders?\n",
    "    - Definir a periodicidade ( 1 mês, 3 meses)\n",
    "    - A pessoa precisa ser desimilar ou não-parecido com uma pessoa do grupo.\n",
    "8. Qual a garantia que o programa Insiders é melhor que o restante da base?\n",
    "    - Teste A/B.\n",
    "    - teste A/B Bayesiano.\n",
    "    - Teste de hióteses.\n",
    "9. Quais ações o time de marketing pode realizar para aumentar o faturamento?\n",
    "    - Desconto.\n",
    "    - Preferência de compra.\n",
    "    - Frete.\n",
    "    - Visita a empresa."
   ]
  },
  {
   "cell_type": "markdown",
   "metadata": {},
   "source": [
    "## Benchmark de soluções\n",
    "\n",
    "### 1.0 Desk Research"
   ]
  },
  {
   "cell_type": "markdown",
   "metadata": {},
   "source": []
  }
 ],
 "metadata": {
  "kernelspec": {
   "display_name": "cluster",
   "language": "python",
   "name": "python3"
  },
  "language_info": {
   "codemirror_mode": {
    "name": "ipython",
    "version": 3
   },
   "file_extension": ".py",
   "mimetype": "text/x-python",
   "name": "python",
   "nbconvert_exporter": "python",
   "pygments_lexer": "ipython3",
   "version": "3.11.4"
  }
 },
 "nbformat": 4,
 "nbformat_minor": 2
}
